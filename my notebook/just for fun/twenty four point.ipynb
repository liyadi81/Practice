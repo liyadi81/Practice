{
 "cells": [
  {
   "cell_type": "markdown",
   "metadata": {},
   "source": [
    "# 24 point game"
   ]
  },
  {
   "cell_type": "code",
   "execution_count": 1,
   "metadata": {
    "collapsed": true
   },
   "outputs": [],
   "source": [
    "from itertools import permutations, product\n",
    "import time\n",
    "import random"
   ]
  },
  {
   "cell_type": "markdown",
   "metadata": {},
   "source": [
    "## Functions:"
   ]
  },
  {
   "cell_type": "code",
   "execution_count": 2,
   "metadata": {
    "collapsed": true
   },
   "outputs": [],
   "source": [
    "def game_solver(lst=None, print_solution=True):\n",
    "    '''\n",
    "    input a list of 4 intergers, return the solution of the 24 point game or whether there is a solution.\n",
    "    \n",
    "    print_solution: if True, will print the solution of the game, if False, will return boolean value of whether the game has a solution.\n",
    "    '''\n",
    "    while True:\n",
    "        if not lst:\n",
    "            print('please enter 4 intergers separated by space:')\n",
    "            try:\n",
    "                lst=[int(val) for val in input().split()]\n",
    "                break\n",
    "            except:\n",
    "                print('not valid input, please try again')\n",
    "        else:\n",
    "            try:\n",
    "                if all([type(val)==int for val in lst]):\n",
    "                    break\n",
    "                else:\n",
    "                    lst=None\n",
    "                    print('not valid input, please try again')\n",
    "            except:\n",
    "                lst=None\n",
    "                print('not valid input, please try again')\n",
    "    t1 = time.time()\n",
    "    solution = []\n",
    "    for comb in set(permutations(lst, 4)):\n",
    "        equation = [str(comb[0]),'',str(comb[1]),'',str(comb[2]),'',str(comb[3])]\n",
    "        for operators in product(['+', '-', '*', '/'],repeat=3):\n",
    "            equation[1], equation[3], equation[5] = operators\n",
    "            try:\n",
    "                result = eval(''.join(equation[:3]))\n",
    "                result = eval('result'+''.join(equation[3:5]))\n",
    "                result = eval('result'+''.join(equation[5:]))\n",
    "            except:\n",
    "                result = 0\n",
    "            if result==24:\n",
    "                solution.append(''.join(['((',*equation[:3],')',*equation[3:5],')',*equation[5:]]))\n",
    "            try:\n",
    "                result1 = eval(''.join(equation[:3]))\n",
    "                result2 = eval(''.join(equation[4:]))\n",
    "                result3 = eval('result1'+equation[3]+'result2')\n",
    "            except:\n",
    "                result3 = 0\n",
    "            if result3==24:\n",
    "                solution.append(''.join(['(',*equation[:3],')',equation[3],'(',*equation[4:],')']))\n",
    "    if solution:\n",
    "        if print_solution:\n",
    "            print('Solutions:')\n",
    "            for i in solution:\n",
    "                print('{} = 24'.format(''.join(i)))\n",
    "            print('Time took to solve: {:.2f} sec'.format(time.time()-t1))\n",
    "        else:\n",
    "            return(True)\n",
    "    else:\n",
    "        if print_solution:\n",
    "            print('No solution found.')\n",
    "            print('Time took to solve: {:.2f} sec'.format(time.time()-t1))\n",
    "        else:\n",
    "            return(False)\n",
    "\n",
    "def game_generator(max_num=49):\n",
    "    '''\n",
    "    generate a valid set of 4 intergers for a 24 point game.\n",
    "    \n",
    "    the range of the numbers is from 1 to max_num\n",
    "    '''\n",
    "    lst = random.choices(range(1,max_num+1), k=4)\n",
    "    while not game_solver(lst = lst, print_solution=False):\n",
    "        lst = random.choices(range(1,max_num+1), k=4)\n",
    "    return(lst)"
   ]
  },
  {
   "cell_type": "code",
   "execution_count": 3,
   "metadata": {},
   "outputs": [
    {
     "name": "stdout",
     "output_type": "stream",
     "text": [
      "[14, 27, 13, 15]\n"
     ]
    }
   ],
   "source": [
    "random.seed(666)\n",
    "game = game_generator(max_num=29)\n",
    "print(game)"
   ]
  },
  {
   "cell_type": "code",
   "execution_count": 4,
   "metadata": {},
   "outputs": [
    {
     "name": "stdout",
     "output_type": "stream",
     "text": [
      "Solutions:\n",
      "((13*27)-15)/14 = 24\n",
      "((27*13)-15)/14 = 24\n",
      "Time took to solve: 0.12 sec\n"
     ]
    }
   ],
   "source": [
    "game_solver(game)"
   ]
  },
  {
   "cell_type": "markdown",
   "metadata": {},
   "source": [
    "## Define a game class"
   ]
  },
  {
   "cell_type": "code",
   "execution_count": 5,
   "metadata": {},
   "outputs": [],
   "source": [
    "class twenty_four():\n",
    "    '''\n",
    "    A 24 point game class.\n",
    "    \n",
    "    Methods:\n",
    "    generate: Create a valid set of 4 intergers for a 24 point game.\n",
    "    solve: Solve a game, print result and save the result to solutions_\n",
    "    \n",
    "    Attribute:\n",
    "    nums_: list of 4 int numbers. Can be created from generate() method or be passed in to solve() method\n",
    "    solutions_: list of solutions of the given game\n",
    "    '''\n",
    "    def __init__(self):\n",
    "        self.nums_ = None\n",
    "        self.solutions_ = None\n",
    "        \n",
    "    def generate(self, max_num=49):\n",
    "        '''\n",
    "        Create a valid set of 4 intergers for a 24 point game.\n",
    "        \n",
    "        The range of the number is from 1 to max_num\n",
    "        '''\n",
    "        lst = random.choices(range(1,max_num+1), k=4)\n",
    "        while not self.solve(lst, print_solution=False):\n",
    "            lst = random.choices(range(1,max_num+1), k=4)\n",
    "        self.nums_ = lst\n",
    "        print('Generated game numbers:', *self.nums_, sep=' ')\n",
    "        \n",
    "    def solve(self, lst=None, print_solution=True):\n",
    "        '''\n",
    "        input a list of 4 intergers, solve the 24 point game, print the result or return whether there is a solution.\n",
    "\n",
    "        print_solution: if True, print the solution of the game; if False, return boolean value of whether the game has a solution.\n",
    "        '''\n",
    "        if lst:\n",
    "            self.nums_ = lst\n",
    "        assert len(self.nums_)==4, \"Not valid input, need 4 numbers\" \n",
    "        assert all([type(val)==int for val in self.nums_]), \"Not valid input, input contains non-integer value\"\n",
    "        t1 = time.time()\n",
    "        self.solutions_ = []\n",
    "        for comb in set(permutations(self.nums_, 4)):\n",
    "            equation = [str(comb[0]),'',str(comb[1]),'',str(comb[2]),'',str(comb[3])]\n",
    "            for operators in product(['+', '-', '*', '/'],repeat=3):\n",
    "                equation[1], equation[3], equation[5] = operators\n",
    "                try:\n",
    "                    result = eval(''.join(equation[:3]))\n",
    "                    result = eval('result'+''.join(equation[3:5]))\n",
    "                    result = eval('result'+''.join(equation[5:]))\n",
    "                except:\n",
    "                    result = 0\n",
    "                if result==24:\n",
    "                    self.solutions_.append(''.join(['((',*equation[:3],')',*equation[3:5],')',*equation[5:]]))\n",
    "                try:\n",
    "                    result1 = eval(''.join(equation[:3]))\n",
    "                    result2 = eval(''.join(equation[4:]))\n",
    "                    result3 = eval('result1'+equation[3]+'result2')\n",
    "                except:\n",
    "                    result3 = 0\n",
    "                if result3==24:\n",
    "                    self.solutions_.append(''.join(['(',*equation[:3],')',equation[3],'(',*equation[4:],')']))\n",
    "        if self.solutions_:\n",
    "            if print_solution:\n",
    "                print('Solutions:')\n",
    "                for i in self.solutions_:\n",
    "                    print('{} = 24'.format(''.join(i)))\n",
    "                print('Time took to solve: {:.2f} sec'.format(time.time()-t1))\n",
    "            else:\n",
    "                return(True)\n",
    "        else:\n",
    "            if print_solution:\n",
    "                print('No solution found.')\n",
    "                print('Time took to solve: {:.2f} sec'.format(time.time()-t1))\n",
    "            else:\n",
    "                return(False)"
   ]
  },
  {
   "cell_type": "code",
   "execution_count": 6,
   "metadata": {},
   "outputs": [
    {
     "name": "stdout",
     "output_type": "stream",
     "text": [
      "Generated game numbers: 14 27 13 15\n"
     ]
    }
   ],
   "source": [
    "game = twenty_four()\n",
    "random.seed(666)\n",
    "game.generate(29)"
   ]
  },
  {
   "cell_type": "code",
   "execution_count": 7,
   "metadata": {},
   "outputs": [
    {
     "name": "stdout",
     "output_type": "stream",
     "text": [
      "Solutions:\n",
      "((13*27)-15)/14 = 24\n",
      "((27*13)-15)/14 = 24\n",
      "Time took to solve: 0.10 sec\n"
     ]
    }
   ],
   "source": [
    "game.solve()"
   ]
  },
  {
   "cell_type": "code",
   "execution_count": 8,
   "metadata": {},
   "outputs": [
    {
     "name": "stdout",
     "output_type": "stream",
     "text": [
      "Game numbers: [14, 27, 13, 15]\n",
      "Solutions: ['((13*27)-15)/14', '((27*13)-15)/14']\n"
     ]
    }
   ],
   "source": [
    "print('Game numbers: {}'.format(game.nums_))\n",
    "print('Solutions: {}'.format(game.solutions_))"
   ]
  },
  {
   "cell_type": "code",
   "execution_count": 9,
   "metadata": {},
   "outputs": [
    {
     "name": "stdout",
     "output_type": "stream",
     "text": [
      "Solutions:\n",
      "((13+29)/21)+22 = 24\n",
      "((29+13)/21)+22 = 24\n",
      "Time took to solve: 0.11 sec\n"
     ]
    }
   ],
   "source": [
    "game.solve([22, 21, 29, 13])"
   ]
  }
 ],
 "metadata": {
  "kernelspec": {
   "display_name": "Python 3",
   "language": "python",
   "name": "python3"
  },
  "language_info": {
   "codemirror_mode": {
    "name": "ipython",
    "version": 3
   },
   "file_extension": ".py",
   "mimetype": "text/x-python",
   "name": "python",
   "nbconvert_exporter": "python",
   "pygments_lexer": "ipython3",
   "version": "3.6.1"
  }
 },
 "nbformat": 4,
 "nbformat_minor": 2
}
