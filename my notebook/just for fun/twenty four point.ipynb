{
 "cells": [
  {
   "cell_type": "markdown",
   "metadata": {},
   "source": [
    "# 24 point game"
   ]
  },
  {
   "cell_type": "code",
   "execution_count": 1,
   "metadata": {
    "collapsed": true
   },
   "outputs": [],
   "source": [
    "from itertools import permutations, product\n",
    "import time\n",
    "import random"
   ]
  },
  {
   "cell_type": "code",
   "execution_count": 2,
   "metadata": {},
   "outputs": [],
   "source": [
    "def twentyfour(lst=None, print_solution=True):\n",
    "    '''\n",
    "    input a list of 4 intergers, return the solution of the 24 point game or whether there is a solution.\n",
    "    \n",
    "    print_solution: if True, will print the solution of the game, if False, will return boolean value of whether the game has a solution.\n",
    "    '''\n",
    "    while True:\n",
    "        if not lst:\n",
    "            print('please enter 4 intergers separated by space:')\n",
    "            try:\n",
    "                lst=[int(val) for val in input().split()]\n",
    "                break\n",
    "            except:\n",
    "                print('not valid input, please try again')\n",
    "        else:\n",
    "            try:\n",
    "                if all([type(val)==int for val in lst]):\n",
    "                    break\n",
    "                else:\n",
    "                    lst=None\n",
    "                    print('not valid input, please try again')\n",
    "            except:\n",
    "                lst=None\n",
    "                print('not valid input, please try again')\n",
    "    t1 = time.time()\n",
    "    solution = []\n",
    "    for comb in set(permutations(lst, 4)):\n",
    "        equation = [str(comb[0]),'',str(comb[1]),'',str(comb[2]),'',str(comb[3])]\n",
    "        for operators in product(['+', '-', '*', '/'],repeat=3):\n",
    "            equation[1], equation[3], equation[5] = operators\n",
    "            try:\n",
    "                result = eval(''.join(equation[:3]))\n",
    "                result = eval('result'+''.join(equation[3:5]))\n",
    "                result = eval('result'+''.join(equation[5:]))\n",
    "            except:\n",
    "                result = 0\n",
    "            if result==24:\n",
    "                solution.append(''.join(['((',*equation[:3],')',*equation[3:5],')',*equation[5:]]))\n",
    "            try:\n",
    "                result1 = eval(''.join(equation[:3]))\n",
    "                result2 = eval(''.join(equation[4:]))\n",
    "                result3 = eval('result1'+equation[3]+'result2')\n",
    "            except:\n",
    "                result3 = 0\n",
    "            if result3==24:\n",
    "                solution.append(''.join(['(',*equation[:3],')',equation[3],'(',*equation[4:],')']))\n",
    "    if solution:\n",
    "        if print_solution:\n",
    "            print('Solutions:')\n",
    "            for i in solution:\n",
    "                print('{} = 24'.format(''.join(i)))\n",
    "            print('Time took to solve: {:.2f} sec'.format(time.time()-t1))\n",
    "        else:\n",
    "            return(True)\n",
    "    else:\n",
    "        if print_solution:\n",
    "            print('No solution found.')\n",
    "            print('Time took to solve: {:.2f} sec'.format(time.time()-t1))\n",
    "        else:\n",
    "            return(False)"
   ]
  },
  {
   "cell_type": "code",
   "execution_count": 3,
   "metadata": {},
   "outputs": [
    {
     "name": "stdout",
     "output_type": "stream",
     "text": [
      "Solutions:\n",
      "((3*29)+9)/4 = 24\n",
      "((29*3)+9)/4 = 24\n",
      "Time took to solve: 0.10 sec\n"
     ]
    }
   ],
   "source": [
    "twentyfour([9, 29, 4, 3])"
   ]
  },
  {
   "cell_type": "code",
   "execution_count": 4,
   "metadata": {},
   "outputs": [],
   "source": [
    "def game_generator(max_num=49):\n",
    "    '''\n",
    "    generate a valid set of 4 intergers for a 24 point game.\n",
    "    \n",
    "    the range of the numbers is from 1 to max_num\n",
    "    '''\n",
    "    lst = [random.randint(1,max_num), random.randint(1,max_num), random.randint(1,max_num), random.randint(1,max_num)]\n",
    "    while not twentyfour(lst = lst, print_solution=False):\n",
    "        lst = [random.randint(1,max_num), random.randint(1,max_num), random.randint(1,max_num), random.randint(1,max_num)]\n",
    "    return(lst)"
   ]
  },
  {
   "cell_type": "code",
   "execution_count": 5,
   "metadata": {},
   "outputs": [
    {
     "data": {
      "text/plain": [
       "[27, 8, 14, 19]"
      ]
     },
     "execution_count": 5,
     "metadata": {},
     "output_type": "execute_result"
    }
   ],
   "source": [
    "game_generator(max_num=29)"
   ]
  }
 ],
 "metadata": {
  "kernelspec": {
   "display_name": "Python 3",
   "language": "python",
   "name": "python3"
  },
  "language_info": {
   "codemirror_mode": {
    "name": "ipython",
    "version": 3
   },
   "file_extension": ".py",
   "mimetype": "text/x-python",
   "name": "python",
   "nbconvert_exporter": "python",
   "pygments_lexer": "ipython3",
   "version": "3.6.1"
  }
 },
 "nbformat": 4,
 "nbformat_minor": 2
}
