{
 "cells": [
  {
   "cell_type": "markdown",
   "metadata": {},
   "source": [
    "<h1><center>Yadi's Python Notebook</center></h1><br>\n",
    "\n",
    "Note: This notebook is built to be a quick reference/cheetsheet notebook. Many cells are not meant to run, but for checking documentations using shift+tab. For more details or examples, check the links that point to the detailed documentation. A commented cell is left in each package sections for the convenience of checking available method/attribute of the class object."
   ]
  },
  {
   "cell_type": "markdown",
   "metadata": {},
   "source": [
    "<p><a name=\"table of content\"></a></p>\n",
    "## Table of Content\n",
    "\n",
    "- **1.** <a href=\"#Basics\">**Basics: datatypes, operations**</a><br>\n",
    "    - **1.1** <a href=\"#Numbers\">Numeric Types: int, float, complex</a><br>\n",
    "    - **1.2** <a href=\"#String\">String</a><br>\n",
    "    - **1.3** <a href=\"#List, set, dictionary\">List, set, dictionary</a><br>\n",
    "    - **1.4** <a href=\"#Other types\">Other types</a><br>\n",
    "<br>\n",
    "- **2.** <a href=\"#Functions\">**Functions**</a><br>\n",
    "<br>\n",
    "- **3.** <a href=\"#Built-in packages\">**Built-in packages**</a><br>\n",
    "    - **3.1** <a href=\"#Math related\">Math related</a><br>\n",
    "    - **3.2** <a href=\"#datetime\">Time, datetime, calendar</a><br>\n",
    "    - **3.3** <a href=\"#itertools\">Itertools</a><br>\n",
    "    - **3.4** <a href=\"#re\">Regular expression</a><br>\n",
    "    - **3.5** <a href=\"#other packages\">Other packages</a><br>\n",
    "<br>\n",
    "- **4.** <a href='#Data science packages'>**Data science packages**</a> <br>\n",
    "    - **4.1** <a href=\"#numpy\">Numpy</a><br>\n",
    "    - **4.2** <a href=\"#Scipy\">Scipy</a><br>\n",
    "    - **4.3** <a href=\"#Pandas\">Pandas</a><br>\n",
    "    - **4.4** <a href=\"#plot\">Seaborn, matplotlib</a><br>\n",
    "    - **4.5** <a href=\"#Sklearn\">Sklearn</a><br>\n",
    "<br>\n",
    "- **5.** <a href='#Other packages'>**Other packages**</a> <br>\n",
    "    - **5.1** <a href=\"#beautifulsoup\">Beautifulsoup</a><br>\n"
   ]
  },
  {
   "cell_type": "markdown",
   "metadata": {
    "collapsed": true
   },
   "source": [
    "<p><a name=\"Basics\"></a></p>\n",
    "# 1. Basics: datatypes, operations                                                           \n",
    "<div style=\"text-align: right\"> [[back to top]](#table of content) </div>\n",
    "https://docs.python.org/3/library/stdtypes.html?highlight=int#\n"
   ]
  },
  {
   "cell_type": "markdown",
   "metadata": {},
   "source": [
    "<p><a name=\"Numbers\"></a></p>\n",
    "- ## 1.1 Numeric Types: int, float, complex\n",
    "<div style=\"text-align: right\"> [[back to top]](#table of content) </div>\n",
    "https://docs.python.org/3/library/stdtypes.html?highlight=int#numeric-types-int-float-complex <br>\n",
    "also check <a href=\"#Math related\">Math related packages</a>"
   ]
  },
  {
   "cell_type": "code",
   "execution_count": null,
   "metadata": {
    "collapsed": true
   },
   "outputs": [],
   "source": [
    "int()\n",
    "float()\n",
    "complex()"
   ]
  },
  {
   "cell_type": "markdown",
   "metadata": {
    "collapsed": true
   },
   "source": [
    "|Operation |\tResult |\n",
    "|:---------|:----------|\n",
    "|x + y \t|sum of x and y| \t  \t \n",
    "|x - y \t|difference of x and y| \t  \t \n",
    "|x * y \t|product of x and y |\t  \t \n",
    "|x / y \t|quotient of x and y |\t  \t \n",
    "|x // y |floored quotient of x and y |\t \n",
    "|x % y \t|remainder of x / y |\t \n",
    "|-x \t|x negated \t  \t |\n",
    "|+x \t|x unchanged |\n",
    "|x \\** y \t|x to the power y|"
   ]
  },
  {
   "cell_type": "code",
   "execution_count": null,
   "metadata": {
    "collapsed": true
   },
   "outputs": [],
   "source": [
    "abs()\n",
    "divmod()\n",
    "pow()\n",
    "round()"
   ]
  },
  {
   "cell_type": "markdown",
   "metadata": {},
   "source": [
    "<p><a name=\"String\"></a></p>\n",
    "- ## 1.2 String\n",
    "<div style=\"text-align: right\"> [[back to top]](#table of content) </div>\n",
    "https://docs.python.org/3/library/stdtypes.html?highlight=int#text-sequence-type-str"
   ]
  },
  {
   "cell_type": "code",
   "execution_count": null,
   "metadata": {
    "collapsed": true,
    "scrolled": true
   },
   "outputs": [],
   "source": [
    "str()\n",
    "str()+str()\n",
    "str()*n\n",
    "str[:]\n",
    "str[::-1]"
   ]
  },
  {
   "cell_type": "code",
   "execution_count": null,
   "metadata": {
    "collapsed": true
   },
   "outputs": [],
   "source": [
    "# str."
   ]
  },
  {
   "cell_type": "code",
   "execution_count": null,
   "metadata": {
    "collapsed": true
   },
   "outputs": [],
   "source": [
    "str.lower()\n",
    "str.upper()\n",
    "str.capitalize()\n",
    "str.swapcase()\n",
    "str.count()\n",
    "str.find()\n",
    "str.startswith()\n",
    "str.endswith()\n",
    "str.format()\n",
    "str.index()\n",
    "str.join()\n",
    "str.partition()\n",
    "str.replace()\n",
    "str.split()\n",
    "str.strip()\n",
    "# rfind, rindex, rjust, rpartition, rsplit"
   ]
  },
  {
   "cell_type": "markdown",
   "metadata": {},
   "source": [
    "for print(\"{}\".format()), check https://docs.python.org/3/library/string.html#format-specification-mini-language"
   ]
  },
  {
   "cell_type": "markdown",
   "metadata": {},
   "source": [
    " - ### string package\n",
    " https://docs.python.org/3/library/string.html?highlight=string#module-string <br>\n",
    " also check <a href=\"#re\">Regular expression</a>"
   ]
  },
  {
   "cell_type": "code",
   "execution_count": 13,
   "metadata": {
    "collapsed": true
   },
   "outputs": [],
   "source": [
    "import string"
   ]
  },
  {
   "cell_type": "code",
   "execution_count": 32,
   "metadata": {},
   "outputs": [
    {
     "name": "stdout",
     "output_type": "stream",
     "text": [
      "abcdefghijklmnopqrstuvwxyzABCDEFGHIJKLMNOPQRSTUVWXYZ\n",
      "abcdefghijklmnopqrstuvwxyz\n",
      "ABCDEFGHIJKLMNOPQRSTUVWXYZ\n",
      "0123456789\n",
      "0123456789abcdefABCDEF\n",
      "!\"#$%&'()*+,-./:;<=>?@[\\]^_`{|}~\n",
      "01234567\n",
      "'0123456789abcdefghijklmnopqrstuvwxyzABCDEFGHIJKLMNOPQRSTUVWXYZ!\"#$%&\\'()*+,-./:;<=>?@[\\\\]^_`{|}~ \\t\\n\\r\\x0b\\x0c'\n",
      "' \\t\\n\\r\\x0b\\x0c'\n"
     ]
    }
   ],
   "source": [
    "print(string.ascii_letters)\n",
    "print(string.ascii_lowercase)\n",
    "print(string.ascii_uppercase)\n",
    "print(string.digits)\n",
    "print(string.hexdigits)\n",
    "print(string.punctuation)\n",
    "print(string.octdigits)\n",
    "print(repr(string.printable))\n",
    "print(repr(string.whitespace))"
   ]
  },
  {
   "cell_type": "markdown",
   "metadata": {},
   "source": [
    "<p><a name=\"List, set, dictionary\"></a></p>\n",
    "- ## 1.3 List, set, dictionary\n",
    "<div style=\"text-align: right\"> [[back to top]](#table of content) </div>\n",
    "    - ### List\n",
    "    https://docs.python.org/3/library/stdtypes.html#lists <br>\n",
    "    ### Common Sequence Operations\n",
    "https://docs.python.org/3.6/library/stdtypes.html?highlight=list#typesseq-common <br>\n",
    "    ### Mutable Sequence Operations\n",
    "https://docs.python.org/3/library/stdtypes.html#typesseq-mutable"
   ]
  },
  {
   "cell_type": "code",
   "execution_count": null,
   "metadata": {
    "collapsed": true
   },
   "outputs": [],
   "source": [
    "list(iterable)  # list(map(func, iter))\n",
    "[ <expresion> for <element> in <list> if <boolean> ]   # list comprehension"
   ]
  },
  {
   "cell_type": "markdown",
   "metadata": {
    "collapsed": true
   },
   "source": [
    "|Operation\t| Result\t|\n",
    "|:----------|:----------|\n",
    "|x in s\t| True if an item of s is equal to x, else False |\n",
    "|x not in s\t| False if an item of s is equal to x, else True |\n",
    "|s + t\t| the concatenation of s and t |\n",
    "|s \\* n or n \\* s\t| equivalent to adding s to itself n times |\n",
    "|s[i]\t| ith item of s, origin 0 |\n",
    "|s[i:j]\t| slice of s from i to j |\n",
    "|s[i:j:k]\t|slice of s from i to j with step k |\n",
    "|len(s)\t| length of s|\t \n",
    "|min(s)\t|smallest item of s |\t \n",
    "|max(s)\t|largest item of s |\n",
    "|sum(s) |sum of s |"
   ]
  },
  {
   "cell_type": "code",
   "execution_count": null,
   "metadata": {
    "collapsed": true
   },
   "outputs": [],
   "source": [
    "list.append()\n",
    "list.count()\n",
    "list.extend()\n",
    "list.index()\n",
    "list.insert()\n",
    "list.pop()\n",
    "list.reverse()\n",
    "list.sort()"
   ]
  },
  {
   "cell_type": "markdown",
   "metadata": {},
   "source": [
    "   - ### sets -- unordered collection of elements without duplicate entries\n",
    "https://docs.python.org/3.6/library/stdtypes.html?highlight=set#set"
   ]
  },
  {
   "cell_type": "code",
   "execution_count": null,
   "metadata": {
    "collapsed": true
   },
   "outputs": [],
   "source": [
    "set(iterable)"
   ]
  },
  {
   "cell_type": "markdown",
   "metadata": {},
   "source": [
    "|   operator         |    method   |\n",
    "|:-----------------  | :------------ |\n",
    "|set <= other        | issubset(set2)|\n",
    "|set <  other        | na|\n",
    "|set &#124; other &#124; ... | union(*others) |\n",
    "|set & other & ...   | intersection(*others)|\n",
    "|set - other - ...   | difference(*others) |\n",
    "|set ^ other         | symmetric_difference(other) |"
   ]
  },
  {
   "cell_type": "code",
   "execution_count": null,
   "metadata": {
    "collapsed": true
   },
   "outputs": [],
   "source": [
    "set.update(*others)\n",
    "set.intersection_update(*others)\n",
    "set.difference_update(*others)\n",
    "set.symmetric_difference_update(*others)\n",
    "set.add(elem)\n",
    "set.remove(elem)\n",
    "set.discard(elem)\n",
    "set.pop()"
   ]
  },
  {
   "cell_type": "markdown",
   "metadata": {},
   "source": [
    "   - ### dictionary\n",
    "https://docs.python.org/3/library/stdtypes.html#mapping-types-dict"
   ]
  },
  {
   "cell_type": "code",
   "execution_count": null,
   "metadata": {
    "collapsed": true
   },
   "outputs": [],
   "source": [
    "a = dict(one=1, two=2, three=3)\n",
    "b = {'one': 1, 'two': 2, 'three': 3}\n",
    "c = dict(zip(['one', 'two', 'three'], [1, 2, 3]))\n",
    "d = dict([('two', 2), ('one', 1), ('three', 3)])\n",
    "e = dict({'three': 3, 'one': 1, 'two': 2})\n",
    "a == b == c == d == e"
   ]
  },
  {
   "cell_type": "markdown",
   "metadata": {},
   "source": [
    "|Operation\t| Result\t|\n",
    "|:----------|:----------|\n",
    "|len(d) | number of items in the dictionary|\n",
    "|d[key] | item of d with key key |\n",
    "|d[key] = value | Set d[key] to value |\n",
    "|key in d | True if d has a key key, else False |\n",
    "|key not in d | Equivalent to not key in d |\n",
    "|iter(d) | iterator over the keys of the dictionary |"
   ]
  },
  {
   "cell_type": "code",
   "execution_count": null,
   "metadata": {
    "collapsed": true
   },
   "outputs": [],
   "source": [
    "dict.get(key,default)\n",
    "dict.items()\n",
    "dict.keys()\n",
    "dict.pop(key)\n",
    "dict.update()\n",
    "dict.values()"
   ]
  },
  {
   "cell_type": "markdown",
   "metadata": {},
   "source": [
    "<p><a name=\"Other types\"></a></p>\n",
    "- ## 1.4 Other types\n",
    "<div style=\"text-align: right\"> [[back to top]](#table of content) </div>\n",
    "    - ### collections -- Container datatypes\n",
    "    collections: https://docs.python.org/3.6/library/collections.html?highlight=collections#module-collections"
   ]
  },
  {
   "cell_type": "code",
   "execution_count": 80,
   "metadata": {
    "collapsed": true
   },
   "outputs": [],
   "source": [
    "import collections"
   ]
  },
  {
   "cell_type": "code",
   "execution_count": null,
   "metadata": {
    "collapsed": true
   },
   "outputs": [],
   "source": [
    "# collections."
   ]
  },
  {
   "cell_type": "code",
   "execution_count": null,
   "metadata": {
    "collapsed": true
   },
   "outputs": [],
   "source": [
    "collections.Counter()    # Dict subclass for counting hashable items.\n",
    "collections.defaultdict()\n",
    "collections.namedtuple()    # Returns a new subclass of tuple with named fields\n",
    "collections.OrderedDict()    # Dictionary that remembers insertion order\n",
    "collections.deque()    # A list-like sequence optimized for data accesses near its endpoints"
   ]
  },
  {
   "cell_type": "markdown",
   "metadata": {},
   "source": [
    " - ### bisect\n",
    " https://docs.python.org/3/library/bisect.html"
   ]
  },
  {
   "cell_type": "code",
   "execution_count": 1,
   "metadata": {
    "collapsed": true
   },
   "outputs": [],
   "source": [
    "import bisect"
   ]
  },
  {
   "cell_type": "code",
   "execution_count": null,
   "metadata": {
    "collapsed": true
   },
   "outputs": [],
   "source": [
    "# bisect."
   ]
  },
  {
   "cell_type": "code",
   "execution_count": null,
   "metadata": {
    "collapsed": true
   },
   "outputs": [],
   "source": [
    "bisect.bisect()\n",
    "bisect.insort()"
   ]
  },
  {
   "cell_type": "markdown",
   "metadata": {},
   "source": [
    "<p><a name=\"Functions\"></a></p>\n",
    "# 2. Functions                                                           \n",
    "<div style=\"text-align: right\"> [[back to top]](#table of content) </div>\n",
    "Built-in Functions: https://docs.python.org/3/library/functions.html"
   ]
  },
  {
   "cell_type": "code",
   "execution_count": null,
   "metadata": {
    "collapsed": true
   },
   "outputs": [],
   "source": [
    "list(map(func, iterable))  # map return iterator, can map over mutiple lists\n",
    "map(func(x,y), list1, list2)"
   ]
  },
  {
   "cell_type": "code",
   "execution_count": null,
   "metadata": {
    "collapsed": true
   },
   "outputs": [],
   "source": [
    "range(start, stop[, step])    # a sequence of integers from start (inclusive) to stop (exclusive) by step."
   ]
  },
  {
   "cell_type": "code",
   "execution_count": null,
   "metadata": {
    "collapsed": true
   },
   "outputs": [],
   "source": [
    "x_iter = iter(iterable)    # iterator\n",
    "next(x_iter)"
   ]
  },
  {
   "cell_type": "code",
   "execution_count": null,
   "metadata": {
    "collapsed": true
   },
   "outputs": [],
   "source": [
    "sorted(iterable, key=func, reverse=True)    # key can be tuple"
   ]
  },
  {
   "cell_type": "code",
   "execution_count": null,
   "metadata": {
    "collapsed": true
   },
   "outputs": [],
   "source": [
    "filter(func, iterable)    # return iterator where func return True"
   ]
  },
  {
   "cell_type": "code",
   "execution_count": null,
   "metadata": {
    "collapsed": true
   },
   "outputs": [],
   "source": [
    "zip(iter1, iter2)    # trick: read matrix columnwise: zip(*matrix) matrix in 2-d list/array format"
   ]
  },
  {
   "cell_type": "code",
   "execution_count": null,
   "metadata": {
    "collapsed": true
   },
   "outputs": [],
   "source": [
    "eval(string)    # make sure the variables/attributes/methods in the string are defined and valid\n",
    "repr(obj)"
   ]
  },
  {
   "cell_type": "code",
   "execution_count": null,
   "metadata": {
    "collapsed": true
   },
   "outputs": [],
   "source": [
    "any(iterable)\n",
    "all(iterable)"
   ]
  },
  {
   "cell_type": "code",
   "execution_count": 13,
   "metadata": {},
   "outputs": [
    {
     "data": {
      "text/plain": [
       "<method 'conjugate' of 'complex' objects>"
      ]
     },
     "execution_count": 13,
     "metadata": {},
     "output_type": "execute_result"
    }
   ],
   "source": [
    "complex(3, 4)    # Create a complex number from a real part and an optional imaginary part\n",
    "complex.imag\n",
    "complex.real\n",
    "complex.conjugate\n",
    "# can apply +, -, *, /"
   ]
  },
  {
   "cell_type": "code",
   "execution_count": null,
   "metadata": {
    "collapsed": true
   },
   "outputs": [],
   "source": [
    "try:\n",
    "    expression\n",
    "except Exception as e:\n",
    "    expression\n",
    "    print(e)"
   ]
  },
  {
   "cell_type": "code",
   "execution_count": null,
   "metadata": {
    "collapsed": true
   },
   "outputs": [],
   "source": [
    "# math\n",
    "divmod()\n",
    "pow(x,y,z)\n"
   ]
  },
  {
   "cell_type": "markdown",
   "metadata": {},
   "source": [
    "Define function"
   ]
  },
  {
   "cell_type": "code",
   "execution_count": null,
   "metadata": {
    "collapsed": true
   },
   "outputs": [],
   "source": [
    "def f(x):\n",
    "   return expression\n",
    "\n",
    "f = lambda x: expression"
   ]
  },
  {
   "cell_type": "markdown",
   "metadata": {},
   "source": [
    "<p><a name=\"Built-in packages\"></a></p>\n",
    "# 3. Built-in Packages \n",
    "<div style=\"text-align: right\"> [[back to top]](#table of content) </div>"
   ]
  },
  {
   "cell_type": "markdown",
   "metadata": {},
   "source": [
    "<p><a name=\"Math related\"></a></p>\n",
    "- ## 3.1 Math related\n",
    "math: https://docs.python.org/3.6/library/math.html?highlight=math#module-math <br>\n",
    "cmath(for complex numbers): https://docs.python.org/3.6/library/cmath.html?highlight=math#module-cmath <br>\n",
    "fractions: https://docs.python.org/3.6/library/fractions.html <br>\n",
    "statistics: https://docs.python.org/3/library/statistics.html <br>\n",
    "random: https://docs.python.org/3/library/random.html "
   ]
  },
  {
   "cell_type": "code",
   "execution_count": 1,
   "metadata": {
    "collapsed": true
   },
   "outputs": [],
   "source": [
    "import math\n",
    "import cmath\n",
    "from fractions import Fraction\n",
    "import statistics as st\n",
    "import random"
   ]
  },
  {
   "cell_type": "code",
   "execution_count": null,
   "metadata": {
    "collapsed": true,
    "scrolled": true
   },
   "outputs": [],
   "source": [
    "# math.\n",
    "# cmath.\n",
    "# st."
   ]
  },
  {
   "cell_type": "code",
   "execution_count": 25,
   "metadata": {},
   "outputs": [
    {
     "name": "stdout",
     "output_type": "stream",
     "text": [
      "2\n",
      "1\n",
      "3.0\n",
      "9.0\n",
      "1.0\n"
     ]
    }
   ],
   "source": [
    "print(math.ceil(1.5))\n",
    "print(math.floor(1.5))\n",
    "print(math.sqrt(9))\n",
    "print(math.pow(3,2))\n",
    "print(math.log(math.e))\n",
    "# cos, sin, tan, acos, asin, atan, factorial"
   ]
  },
  {
   "cell_type": "code",
   "execution_count": 24,
   "metadata": {},
   "outputs": [
    {
     "name": "stdout",
     "output_type": "stream",
     "text": [
      "2.718281828459045\n",
      "3.141592653589793\n"
     ]
    }
   ],
   "source": [
    "print(math.e)\n",
    "print(math.pi)"
   ]
  },
  {
   "cell_type": "code",
   "execution_count": null,
   "metadata": {
    "collapsed": true
   },
   "outputs": [],
   "source": [
    "cmath.phase()"
   ]
  },
  {
   "cell_type": "code",
   "execution_count": null,
   "metadata": {
    "collapsed": true
   },
   "outputs": [],
   "source": [
    "Fraction(numerator, denominator)"
   ]
  },
  {
   "cell_type": "code",
   "execution_count": null,
   "metadata": {
    "collapsed": true
   },
   "outputs": [],
   "source": [
    "st.mean()\n",
    "st.median()\n",
    "st.stdev()\n",
    "st.mode()"
   ]
  },
  {
   "cell_type": "code",
   "execution_count": null,
   "metadata": {
    "collapsed": true,
    "scrolled": true
   },
   "outputs": [],
   "source": [
    "random.randint(a,b)\n",
    "random.random()\n",
    "random.gauss()\n",
    "random.seed()"
   ]
  },
  {
   "cell_type": "markdown",
   "metadata": {},
   "source": [
    "<p><a name=\"datetime\"></a></p>\n",
    "- ## 3.2 Time, datetime, calendar\n",
    "<div style=\"text-align: right\"> [[back to top]](#table of content) </div>\n",
    "    - ### calendar -- General calendar-related functions\n",
    "https://docs.python.org/3.6/library/calendar.html#calendar.setfirstweekday"
   ]
  },
  {
   "cell_type": "code",
   "execution_count": 20,
   "metadata": {
    "collapsed": true
   },
   "outputs": [],
   "source": [
    "import calendar"
   ]
  },
  {
   "cell_type": "code",
   "execution_count": null,
   "metadata": {
    "collapsed": true
   },
   "outputs": [],
   "source": [
    "# calendar."
   ]
  },
  {
   "cell_type": "code",
   "execution_count": 58,
   "metadata": {},
   "outputs": [
    {
     "name": "stdout",
     "output_type": "stream",
     "text": [
      "Monday Tuesday Wednesday Thursday Friday Saturday Sunday\n",
      "Mon Tue Wed Thu Fri Sat Sun\n",
      " January February March April May June July August September October November December\n",
      "Mon Tue Wed Thu Fri Sat Sun\n"
     ]
    }
   ],
   "source": [
    "print(*calendar.day_name)    # These return iterators\n",
    "print(*calendar.day_abbr)\n",
    "print(*calendar.month_name)\n",
    "print(*calendar.day_abbr)"
   ]
  },
  {
   "cell_type": "code",
   "execution_count": 37,
   "metadata": {
    "scrolled": false
   },
   "outputs": [
    {
     "name": "stdout",
     "output_type": "stream",
     "text": [
      "                                  2017\n",
      "\n",
      "      January                   February                   March\n",
      "Su Mo Tu We Th Fr Sa      Su Mo Tu We Th Fr Sa      Su Mo Tu We Th Fr Sa\n",
      " 1  2  3  4  5  6  7                1  2  3  4                1  2  3  4\n",
      " 8  9 10 11 12 13 14       5  6  7  8  9 10 11       5  6  7  8  9 10 11\n",
      "15 16 17 18 19 20 21      12 13 14 15 16 17 18      12 13 14 15 16 17 18\n",
      "22 23 24 25 26 27 28      19 20 21 22 23 24 25      19 20 21 22 23 24 25\n",
      "29 30 31                  26 27 28                  26 27 28 29 30 31\n",
      "\n",
      "       April                      May                       June\n",
      "Su Mo Tu We Th Fr Sa      Su Mo Tu We Th Fr Sa      Su Mo Tu We Th Fr Sa\n",
      "                   1          1  2  3  4  5  6                   1  2  3\n",
      " 2  3  4  5  6  7  8       7  8  9 10 11 12 13       4  5  6  7  8  9 10\n",
      " 9 10 11 12 13 14 15      14 15 16 17 18 19 20      11 12 13 14 15 16 17\n",
      "16 17 18 19 20 21 22      21 22 23 24 25 26 27      18 19 20 21 22 23 24\n",
      "23 24 25 26 27 28 29      28 29 30 31               25 26 27 28 29 30\n",
      "30\n",
      "\n",
      "        July                     August                  September\n",
      "Su Mo Tu We Th Fr Sa      Su Mo Tu We Th Fr Sa      Su Mo Tu We Th Fr Sa\n",
      "                   1             1  2  3  4  5                      1  2\n",
      " 2  3  4  5  6  7  8       6  7  8  9 10 11 12       3  4  5  6  7  8  9\n",
      " 9 10 11 12 13 14 15      13 14 15 16 17 18 19      10 11 12 13 14 15 16\n",
      "16 17 18 19 20 21 22      20 21 22 23 24 25 26      17 18 19 20 21 22 23\n",
      "23 24 25 26 27 28 29      27 28 29 30 31            24 25 26 27 28 29 30\n",
      "30 31\n",
      "\n",
      "      October                   November                  December\n",
      "Su Mo Tu We Th Fr Sa      Su Mo Tu We Th Fr Sa      Su Mo Tu We Th Fr Sa\n",
      " 1  2  3  4  5  6  7                1  2  3  4                      1  2\n",
      " 8  9 10 11 12 13 14       5  6  7  8  9 10 11       3  4  5  6  7  8  9\n",
      "15 16 17 18 19 20 21      12 13 14 15 16 17 18      10 11 12 13 14 15 16\n",
      "22 23 24 25 26 27 28      19 20 21 22 23 24 25      17 18 19 20 21 22 23\n",
      "29 30 31                  26 27 28 29 30            24 25 26 27 28 29 30\n",
      "                                                    31\n",
      "\n"
     ]
    }
   ],
   "source": [
    "print(calendar.TextCalendar(firstweekday=6).formatyear(2017))"
   ]
  },
  {
   "cell_type": "markdown",
   "metadata": {},
   "source": [
    "- ### time, datetime\n",
    "datetime: https://docs.python.org/3.6/library/datetime.html?highlight=datetime#datetime.datetime <br>\n",
    "time: https://docs.python.org/3.6/library/time.html#module-time"
   ]
  },
  {
   "cell_type": "code",
   "execution_count": 61,
   "metadata": {
    "collapsed": true
   },
   "outputs": [],
   "source": [
    "from datetime import datetime"
   ]
  },
  {
   "cell_type": "code",
   "execution_count": null,
   "metadata": {
    "collapsed": true
   },
   "outputs": [],
   "source": [
    "# datetime."
   ]
  },
  {
   "cell_type": "code",
   "execution_count": null,
   "metadata": {
    "collapsed": true
   },
   "outputs": [],
   "source": [
    "datetime.date()\n",
    "datetime.strftime()\n",
    "datetime.strptime(input(), '%a %d %b %Y %H:%M:%S %z')"
   ]
  },
  {
   "cell_type": "code",
   "execution_count": 62,
   "metadata": {
    "collapsed": true
   },
   "outputs": [],
   "source": [
    "import time"
   ]
  },
  {
   "cell_type": "code",
   "execution_count": null,
   "metadata": {
    "collapsed": true
   },
   "outputs": [],
   "source": [
    "# time."
   ]
  },
  {
   "cell_type": "code",
   "execution_count": 79,
   "metadata": {},
   "outputs": [
    {
     "name": "stdout",
     "output_type": "stream",
     "text": [
      "Fri Nov 17 13:17:00 2017\n",
      "Fri Nov 17 13:17:03 2017\n"
     ]
    }
   ],
   "source": [
    "print(time.asctime())\n",
    "time.sleep(3)\n",
    "print(time.asctime())"
   ]
  },
  {
   "cell_type": "markdown",
   "metadata": {},
   "source": [
    "<p><a name=\"itertools\"></a></p>\n",
    "- ## 3.3 Itertools -- Functions creating iterators for efficient\n",
    "<div style=\"text-align: right\"> [[back to top]](#table of content) </div>\n",
    "https://docs.python.org/3.6/library/itertools.html#module-itertools"
   ]
  },
  {
   "cell_type": "code",
   "execution_count": 2,
   "metadata": {
    "collapsed": true
   },
   "outputs": [],
   "source": [
    "import itertools"
   ]
  },
  {
   "cell_type": "code",
   "execution_count": null,
   "metadata": {
    "collapsed": true
   },
   "outputs": [],
   "source": [
    "# itertools."
   ]
  },
  {
   "cell_type": "code",
   "execution_count": null,
   "metadata": {
    "collapsed": true
   },
   "outputs": [],
   "source": [
    "itertools.product()    # Cartesian product of input iterables.\n",
    "itertools.permutations()    # Return successive r-length permutations of elements in the iterable\n",
    "itertools.combinations()    # Return successive r-length combinations of elements in the iterable\n",
    "itertools.combinations_with_replacement()    # allowing individual elements to have successive repeats\n",
    "itertools.groupby()    # create an iterator which returns (key, sub-iterator) grouped by each value of key(value)\n",
    "itertools.islice()    # Return an iterator whose next() method returns selected values from an iterable."
   ]
  },
  {
   "cell_type": "markdown",
   "metadata": {},
   "source": [
    "<p><a name=\"re\"></a></p>\n",
    "- ## 3.4 Regular expression\n",
    "<div style=\"text-align: right\"> [[back to top]](#table of content) </div>\n",
    "https://docs.python.org/3/library/re.html#module-re"
   ]
  },
  {
   "cell_type": "markdown",
   "metadata": {},
   "source": [
    "| expression | explaination|\n",
    "|:----------:|:------------|\n",
    "|\\.|matches any character except a newline |\n",
    "|^|matches the start of the string|\n",
    "|$|matches the end of the string or just before the newline at the end of the string|\n",
    "|\\*|match 0 or more repetitions of the preceding RE, as many repetitions as are possible|\n",
    "|+|match 1 or more repetitions of the preceding RE|\n",
    "|?|match 0 or 1 repetitions of the preceding RE|\n",
    "|\\*?, +?, ??|The '*', '+', and '?' qualifiers are all greedy; they match as much text as possible.<br> Adding ? after the qualifier makes it perform the match in non-greedy or minimal fashion|\n",
    "|{m}|exactly m copies of the previous RE should be matched|\n",
    "|{m,n}|match from m to n repetitions of the preceding RE, attempting to match as many repetitions as possible.|\n",
    "|{m,n}?|match from m to n repetitions of the preceding RE, attempting to match as few repetitions as possible.|\n",
    "|\\\\|Either escapes special characters, or signals a special sequence|\n",
    "|[ ]|indicate a set of characters.|\n",
    "|A &#124; B|match either A or B|\n",
    "|(...)|matches whatever regular expression is inside the parentheses, and indicates the start and end of a group. <br> the contents of a group can be retrieved after a match has been performed, and can be matched later in the string with the \\\\number special sequence|\n",
    "|(?:...)|Matches whatever regular expression is inside the parentheses, <br>but the substring matched by the group cannot be retrieved after performing a match or referenced later in the pattern.|\n",
    "|(?=...)|Matches if ... matches next, but doesn’t consume any of the string. This is called a lookahead assertion. |\n",
    "|(?<=...)|Matches if the current position in the string is preceded by a match for ... that ends at the current position. <br> This is called a positive lookbehind assertion.|\n",
    "|\\\\number|Matches the contents of the group of the same number. Groups are numbered starting from 1.|\n",
    "|\\\\d|Matches any decimal digit; this is equivalent to the class [0-9].|\n",
    "|\\\\D|Matches any non-digit character; this is equivalent to the class [^0-9].|\n",
    "|\\\\w|Matches any alphanumeric character; this is equivalent to the class [a-zA-Z0-9_].|\n",
    "|\\\\W|Matches any non-alphanumeric character; this is equivalent to the class [^a-zA-Z0-9_].|\n",
    "|\\\\s|Matches any whitespace character; this is equivalent to the class [ \\\\t\\\\n\\\\r\\\\f\\\\v].|\n",
    "|\\\\S|Matches any non-whitespace character; this is equivalent to the class [^ \\\\t\\\\n\\\\r\\\\f\\\\v].|"
   ]
  },
  {
   "cell_type": "code",
   "execution_count": 1,
   "metadata": {
    "collapsed": true
   },
   "outputs": [],
   "source": [
    "import re"
   ]
  },
  {
   "cell_type": "code",
   "execution_count": null,
   "metadata": {
    "collapsed": true
   },
   "outputs": [],
   "source": [
    "# re."
   ]
  },
  {
   "cell_type": "code",
   "execution_count": null,
   "metadata": {
    "collapsed": true
   },
   "outputs": [],
   "source": [
    "re.findall()\n",
    "re.finditer()      # return iterator\n",
    "re.I               # for flags=re.I case insensitive\n",
    "re.search()        # return match object, None if not found\n",
    "re.match()         # return match object, None if not found\n",
    "re.sub()           # can apply function in sencond argument"
   ]
  },
  {
   "cell_type": "code",
   "execution_count": null,
   "metadata": {
    "collapsed": true
   },
   "outputs": [],
   "source": [
    "r'([A-Za-z0-9])\\1+'   # consecutive repeating character\n",
    "r'(?<=['+consonants+'])(['+vowels+']{2,})(?=['+consonants+'])'     # the substrings of  that contains 2 or more vowels, and lie in between 2 consonants\n",
    "r'(?=('+k+'))'        # all the k in string (can overlap)\n",
    "r'(I[VX]|V?I{0,3})'   # Roman Numbers 1-9\n",
    "'(.*[A-Z]){2,}'       # at least 2 uppercase English alphabet characters\n",
    "'(.*[0-9]){3,}'       # at least 3 digits\n",
    "r'.*(.).*\\1+.*'       # repeating character"
   ]
  },
  {
   "cell_type": "markdown",
   "metadata": {},
   "source": [
    "<p><a name=\"other packages\"></a></p>\n",
    "- ## 3.5 Other packages\n",
    "<div style=\"text-align: right\"> [[back to top]](#table of content) </div>"
   ]
  },
  {
   "cell_type": "markdown",
   "metadata": {},
   "source": [
    "### functools -- Higher-order functions and operations on callable objects\n",
    "https://docs.python.org/3.6/library/functools.html?highlight=functools#module-functools"
   ]
  },
  {
   "cell_type": "code",
   "execution_count": 1,
   "metadata": {
    "collapsed": true
   },
   "outputs": [],
   "source": [
    "from functools import reduce"
   ]
  },
  {
   "cell_type": "code",
   "execution_count": null,
   "metadata": {
    "collapsed": true
   },
   "outputs": [],
   "source": [
    "reduce(func, sequence, initial)   # Apply a function of two arguments cumulatively to the items of a sequence, \n",
    "                                  # from left to right"
   ]
  },
  {
   "cell_type": "markdown",
   "metadata": {},
   "source": [
    "### email -- An email and MIME handling package\n",
    "https://docs.python.org/3.4/library/email.html#module-email"
   ]
  },
  {
   "cell_type": "code",
   "execution_count": null,
   "metadata": {
    "collapsed": true
   },
   "outputs": [],
   "source": [
    "from email import utils"
   ]
  },
  {
   "cell_type": "code",
   "execution_count": null,
   "metadata": {
    "collapsed": true
   },
   "outputs": [],
   "source": [
    "# "
   ]
  },
  {
   "cell_type": "markdown",
   "metadata": {},
   "source": [
    "### html.parser -- Simple HTML and XHTML parser\n",
    "https://docs.python.org/3.6/library/html.parser.html#module-html.parser"
   ]
  },
  {
   "cell_type": "code",
   "execution_count": null,
   "metadata": {
    "collapsed": true
   },
   "outputs": [],
   "source": [
    "from html.parser import HTMLParser\n",
    "\n",
    "class MyHTMLParser(HTMLParser):\n",
    "    def handle_starttag(self, tag, attrs):\n",
    "        print(\"Encountered a start tag:\", tag)\n",
    "\n",
    "    def handle_endtag(self, tag):\n",
    "        print(\"Encountered an end tag :\", tag)\n",
    "\n",
    "    def handle_data(self, data):\n",
    "        print(\"Encountered some data  :\", data)\n",
    "        \n",
    "    def handle_data(self, data):\n",
    "        print(\"Data     :\", data)\n",
    "\n",
    "    def handle_comment(self, data):\n",
    "        print(\"Comment  :\", data)\n",
    "\n",
    "parser = MyHTMLParser()\n",
    "parser.feed('<html><head><title>Test</title></head>'\n",
    "            '<body><h1>Parse me!</h1></body></html>')"
   ]
  },
  {
   "cell_type": "markdown",
   "metadata": {},
   "source": [
    "<p><a name=\"Data science packages\"></a></p>\n",
    "# 4. Data science packages \n",
    "<div style=\"text-align: right\"> [[back to top]](#table of content) </div>"
   ]
  },
  {
   "cell_type": "markdown",
   "metadata": {},
   "source": [
    "<p><a name=\"numpy\"></a></p>\n",
    "- ## 4.1 Numpy\n",
    "<div style=\"text-align: right\"> [[back to top]](#table of content) </div>\n",
    "https://docs.scipy.org/doc/ <br>\n",
    "https://docs.scipy.org/doc/numpy-1.13.0/reference/ <br>\n",
    "https://docs.scipy.org/doc/numpy-1.13.0/reference/arrays.ndarray.html"
   ]
  },
  {
   "cell_type": "code",
   "execution_count": 3,
   "metadata": {
    "collapsed": true
   },
   "outputs": [],
   "source": [
    "import numpy as np"
   ]
  },
  {
   "cell_type": "code",
   "execution_count": null,
   "metadata": {
    "collapsed": true
   },
   "outputs": [],
   "source": [
    "# np."
   ]
  },
  {
   "cell_type": "code",
   "execution_count": null,
   "metadata": {
    "collapsed": true
   },
   "outputs": [],
   "source": [
    "# creating np array\n",
    "arr = np.array([], int)\n",
    "arr.dtype\n",
    "arr.shape\n",
    "mat = np.matrix()\n",
    "mat.shape\n",
    "\n",
    "np.zeros(shape, dtype=int)     # dtype = np.int8 or np.float64  \n",
    "np.ones(shape, dtype=float)\n",
    "np.arange()    # Return evenly spaced values within a given interval.\n",
    "np.linspace()    # Return evenly spaced numbers over a specified interval\n",
    "\n",
    "np.identity()             # Return the identity array.\n",
    "np.diag()                 # Extract a diagonal or construct a diagonal array\n",
    "np.eye()                  # Return a 2-D array with ones on the diagonal and zeros elsewhere.\n",
    "\n",
    "np.concatenate((a1, a2, ...), axis=0)    # Join a sequence of arrays along an existing axis.\n",
    "\n",
    "# modify np array\n",
    "arr.reshape()             # Returns an array containing the same data with a new shape.\n",
    "np.reshape()              # equivalent to arr.reshape()\n",
    "arr.shape = (a, b)        # change the shape of arr itself\n",
    "\n",
    "arr.transpose()           # Returns a view of the array with axes transposed. equivalet to arr.T. arr needs to be 2-d array\n",
    "np.transpose()            # see above\n",
    "\n",
    "arr.flatten()             # Return a copy of the array collapsed into one dimension."
   ]
  },
  {
   "cell_type": "markdown",
   "metadata": {},
   "source": [
    "Basic mathematical functions **operate element-wise** on arrays. They are available both as operator overloads and as functions in the NumPy module.<br>\n",
    "**Broadcasting** describes the situation where a unary operator, or binary operator paired with a scalar, is distributed to every element in an array."
   ]
  },
  {
   "cell_type": "code",
   "execution_count": 2,
   "metadata": {
    "collapsed": true
   },
   "outputs": [],
   "source": [
    "a,b = np.array([]), np.array([])\n",
    "c = np.matrix([])\n",
    "\n",
    "c.T\n",
    "c.I\n",
    "\n",
    "a+b == np.add(a,b)\n",
    "a-b == np.subtract(a,b)\n",
    "a*b == np.multiply(a,b)      # for array multiply works element wise, but matrix multiplication works differently\n",
    "a/b == np.divide(a,b)        # this is not floor division\n",
    "a//b == np.floor_divide(a,b)\n",
    "a%b == np.mod(a,b)\n",
    "a**b == np.power(a,b)\n",
    "\n",
    "a & b == np.logical_and(a,b)   # The logical operators and,or (&,|) work pointwise when acting between two boolean arrays of thew same shape.\n",
    "a | b == np.logical_or(a,b)\n",
    "\n",
    "np.floor()\n",
    "np.ceil()\n",
    "np.rint()                # Round elements of the array to the nearest integer.\n",
    "\n",
    "a.sum(axis=None) == np.sum(a, axis=None)     # Sum of array elements over a given axis. axis= 0 or 1\n",
    "a.prod(axis=None) == np.prod(a, axis=None)    # Return the product of array elements over a given axis.\n",
    "a.min() == np.min(a)\n",
    "a.max() == np.max(a)\n",
    "a.mean() == np.mean(a)\n",
    "a.std() == np.std(a)\n",
    "a.var() == np.var(a)\n",
    "\n",
    "a.all() == np.all(a)\n",
    "a.any() == np.any(a)\n",
    "\n",
    "a.dot(b) == np.dot(a,b)   # dot product\n",
    "np.inner(a,b)    # Inner product of two arrays\n",
    "np.outer(a,b)    # Compute the outer product of two vectors\n",
    "np.cross(a,b)    # Return the cross product of two (arrays of) vectors\n",
    "\n",
    "np.poly()        #polynomial related methods\n",
    "np.roots()\n",
    "np.polyint()\n",
    "np.polyder()\n",
    "np.polyval()\n",
    "np.polyfit()\n",
    "\n",
    "np.linalg.det()    # Compute the determinant of an array\n",
    "np.linalg.eig()    # Compute the eigenvalues and right eigenvectors of a square array\n",
    "np.linalg.inv()    # inverse of matrix"
   ]
  },
  {
   "cell_type": "markdown",
   "metadata": {},
   "source": [
    "Random Sampling"
   ]
  },
  {
   "cell_type": "code",
   "execution_count": null,
   "metadata": {
    "collapsed": true
   },
   "outputs": [],
   "source": [
    "np.random.seed(1)\n",
    "np.random.randn()    # Return a sample (or samples) from the \"standard normal\" distribution.\n",
    "np.random.rand()    # random samples from a uniform distribution\n",
    "np.random.randint()    # Return random integers from `low` (inclusive) to `high` (exclusive)\n",
    "np.random.choice()    # Generates a random sample from a given 1-D array"
   ]
  },
  {
   "cell_type": "markdown",
   "metadata": {},
   "source": [
    "<p><a name=\"Scipy\"></a></p>\n",
    "- ## 4.2 Scipy\n",
    "<div style=\"text-align: right\"> [[back to top]](#table of content) </div>\n",
    "\n",
    "SciPy is a package for scientific computing and technical computing with Python. \n",
    "- SciPy builds on the NumPy array object and is part of the NumPy stack which includes tools like Matplotlib and pandas.\n",
    "- SciPy contains modules for stats, integration, optimize, linear algebra, interpolation, special functions, FFT, signal, image processing, ODE solvers and more.\n",
    "- For full documentation, go to:  http://docs.scipy.org/doc/."
   ]
  },
  {
   "cell_type": "code",
   "execution_count": 6,
   "metadata": {
    "collapsed": true
   },
   "outputs": [],
   "source": [
    "import scipy as sp\n",
    "from scipy import stats"
   ]
  },
  {
   "cell_type": "code",
   "execution_count": null,
   "metadata": {
    "collapsed": true
   },
   "outputs": [],
   "source": [
    "# sp.\n",
    "# stats."
   ]
  },
  {
   "cell_type": "markdown",
   "metadata": {},
   "source": [
    "stats <br>\n",
    "https://docs.scipy.org/doc/scipy/reference/stats.html"
   ]
  },
  {
   "cell_type": "code",
   "execution_count": null,
   "metadata": {
    "collapsed": true
   },
   "outputs": [],
   "source": [
    "stats.itemfreq()    # Returns a 2-D array of item frequencies.\n",
    "stats.describe()    # Computes several descriptive statistics of the passed array\n",
    "\n",
    "# Hypothesis Test\n",
    "stats.ttest_1samp()    # One Sample t-test\n",
    "stats.ttest_ind()      # Two Sample t-test\n",
    "stats.f_oneway()       # ANOVA"
   ]
  },
  {
   "cell_type": "markdown",
   "metadata": {},
   "source": [
    "<p><a name=\"Pandas\"></a></p>\n",
    "- ## 4.3 Pandas\n",
    "<div style=\"text-align: right\"> [[back to top]](#table of content) </div>\n",
    "- Pandas is a Python package built on top of NumPy.  It is useful for special array handling, data manipulation, plotting, and web scraping.  \n",
    "\n",
    "- There are four new data structure objects in Pandas: Series, DataFrame, Time Series and Panel. \n",
    "\n",
    "- The *DataFrame* object borrows its name from the R object.  R is a programming language popular among statisticians and data scientists.\n",
    "\n",
    "- Pandas is particularly strong in the area of handling spreadsheet structures, dealing with missing data, and processing time series data.\n",
    "\n",
    "\n",
    "These are the new data types introduced by pandas:\n",
    "\n",
    "- **Series**: 1D labeled homogeneously-typed array.\n",
    "- **DataFrame**: General 2D labeled, size-mutable tabular structure with potentially heterogeneously-typed columns.\n",
    "- **Time Series**: Series with index containing datetimes.\n",
    "- **Panel**: General 3D labeled, also size-mutable array.\n",
    "\n",
    "http://pandas.pydata.org/pandas-docs/stable/"
   ]
  },
  {
   "cell_type": "code",
   "execution_count": 1,
   "metadata": {
    "collapsed": true
   },
   "outputs": [],
   "source": [
    "import pandas as pd"
   ]
  },
  {
   "cell_type": "code",
   "execution_count": null,
   "metadata": {
    "collapsed": true
   },
   "outputs": [],
   "source": [
    "# series\n",
    "pd.Series(data=None, index=None)      # create pd series using list, can specify index with list\n",
    "a = pd.Series(dict)                   # create pd series from dictionary\n",
    "a.to_dict()                           # convert pd series back to dictionary\n",
    "\n",
    "a[0]                                  # index with number\n",
    "a['something']                        # index with label\n",
    "a.values\n",
    "a.index\n",
    "\n",
    "# DataFrame\n",
    "df = pd.DataFrame(data)               # data can be a dictioanry or nested list\n",
    "pd.read_csv() \n",
    "\n",
    "df.columns\n",
    "df.index\n",
    "df.set_index()                        # set index with a column\n",
    "df.reset_index()                      # reset index\n",
    "df['colname']                         # get a column from dataframe, return a pd series\n",
    "df.colname                            # same result as above\n",
    "df[['colname']]                       # return a pd data frame\n",
    "df.values\n",
    "df['colname'][rowindex]               # indexing\n",
    "\n",
    "pd.concat([df1, df2], axis = 1)       # combine 2 data frame along a particular axis, axis=1: horizontally, axis=0: vertically\n",
    "                                      # use 'join=' to set type of join\n",
    "df.sort_values('colname')             # sort by value in a column\n",
    "pd.merge(df3, df4, how='inner', on ='col2')    # Merge DataFrame objects by performing a database-style join operation by\n",
    "                                               # columns or indexes\n",
    "df.loc[]                              # label(column/index) based indexing, return a pd series\n",
    "                                      # two layers of square bracket([[]]) return a data frame\n",
    "                                      # can using condition expression - fancy indexing\n",
    "df.iloc[]                             # number based indexing\n",
    "df.apply(func)                        # apply function on column or row\n",
    "df.drop()                             # removing data\n",
    "df.isnull()                           # check missing data, use .any(axis=0/1) and np.sum() to check column/row wise\n",
    "df.replace()\n",
    "df.dropna(axis=0/1, how='any'/'all')  # drop column/row with missing data\n",
    "df.fillna()                           # impute value\n",
    "df.interpolate(method='linear')       # fill in missing data points with a linear interpolation "
   ]
  },
  {
   "cell_type": "markdown",
   "metadata": {},
   "source": [
    "grouping and aggregation<br>\n",
    "to be continued... "
   ]
  }
 ],
 "metadata": {
  "kernelspec": {
   "display_name": "Python 3",
   "language": "python",
   "name": "python3"
  },
  "language_info": {
   "codemirror_mode": {
    "name": "ipython",
    "version": 3
   },
   "file_extension": ".py",
   "mimetype": "text/x-python",
   "name": "python",
   "nbconvert_exporter": "python",
   "pygments_lexer": "ipython3",
   "version": "3.6.1"
  }
 },
 "nbformat": 4,
 "nbformat_minor": 2
}
