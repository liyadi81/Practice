{
 "cells": [
  {
   "cell_type": "markdown",
   "metadata": {},
   "source": [
    "# Day 25: Running Time and Complexity\n",
    "\n",
    "https://www.hackerrank.com/challenges/30-running-time-and-complexity/problem\n",
    "\n",
    "Objective \n",
    "Today we're learning about running time! Check out the Tutorial tab for learning materials and an instructional video!\n",
    "\n",
    "Task \n",
    "A prime is a natural number greater than  that has no positive divisors other than  and itself. Given a number, , determine and print whether it's  or .\n",
    "\n",
    "Note: If possible, try to come up with a  primality algorithm, or see what sort of optimizations you come up with for an  algorithm. Be sure to check out the Editorial after submitting your code!\n",
    "\n",
    "Input Format\n",
    "\n",
    "The first line contains an integer, , the number of test cases. \n",
    "Each of the  subsequent lines contains an integer, , to be tested for primality.\n",
    "\n",
    "Constraints\n",
    "\n",
    "Output Format\n",
    "\n",
    "For each test case, print whether  is  or  on a new line.\n",
    "\n",
    "Sample Input\n",
    "\n",
    "3\n",
    "12\n",
    "5\n",
    "7\n",
    "Sample Output\n",
    "\n",
    "Not prime\n",
    "Prime\n",
    "Prime\n",
    "Explanation\n",
    "\n",
    "Test Case 0: . \n",
    " is divisible by numbers other than  and itself (i.e.: , , ), so we print  on a new line.\n",
    "\n",
    "Test Case 1: . \n",
    " is only divisible  and itself, so we print  on a new line.\n",
    "\n",
    "Test Case 2: . \n",
    " is only divisible  and itself, so we print  on a new line."
   ]
  },
  {
   "cell_type": "code",
   "execution_count": 1,
   "metadata": {},
   "outputs": [
    {
     "name": "stdout",
     "output_type": "stream",
     "text": [
      "3\n",
      "12\n",
      "Not prime\n",
      "5\n",
      "Prime\n",
      "7\n",
      "Prime\n"
     ]
    }
   ],
   "source": [
    "def isPrime(n):\n",
    "    return(all([n%i for i in range(2, int(n**0.5)+1)]) if n>1 else False)\n",
    "\n",
    "T = int(input())\n",
    "for i in range(T):\n",
    "    print(\"Prime\" if isPrime(int(input())) else \"Not prime\")\n"
   ]
  }
 ],
 "metadata": {
  "kernelspec": {
   "display_name": "Python 3",
   "language": "python",
   "name": "python3"
  },
  "language_info": {
   "codemirror_mode": {
    "name": "ipython",
    "version": 3
   },
   "file_extension": ".py",
   "mimetype": "text/x-python",
   "name": "python",
   "nbconvert_exporter": "python",
   "pygments_lexer": "ipython3",
   "version": "3.6.1"
  }
 },
 "nbformat": 4,
 "nbformat_minor": 2
}
