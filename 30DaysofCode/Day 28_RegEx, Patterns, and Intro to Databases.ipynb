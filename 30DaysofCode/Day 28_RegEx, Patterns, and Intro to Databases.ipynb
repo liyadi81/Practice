{
 "cells": [
  {
   "cell_type": "markdown",
   "metadata": {},
   "source": [
    "# Day 28: RegEx, Patterns, and Intro to Databases\n",
    "\n",
    "https://www.hackerrank.com/challenges/30-regex-patterns/problem\n",
    "\n",
    "Objective\n",
    "Today, we're working with regular expressions. Check out the Tutorial tab for learning materials and an instructional video!\n",
    "\n",
    "Task\n",
    "Consider a database table, Emails, which has the attributes First Name and Email ID. Given rows of data simulating the Emails table, print an alphabetically-ordered list of people whose email address ends in .\n",
    "\n",
    "Input Format\n",
    "\n",
    "The first line contains an integer, , total number of rows in the table.\n",
    "Each of the subsequent lines contains space-separated strings denoting a person's first name and email ID, respectively.\n",
    "\n",
    "Constraints\n",
    "\n",
    "    Each of the first names consists of lower case letters only.\n",
    "    Each of the email IDs consists of lower case letters , and only.\n",
    "    The length of the first name is no longer than 20.\n",
    "    The length of the email ID is no longer than 50.\n",
    "\n",
    "Output Format\n",
    "\n",
    "Print an alphabetically-ordered list of first names for every user with a gmail account. Each name must be printed on a new line.\n",
    "\n",
    "Sample Input\n",
    "\n",
    "6\n",
    "riya riya@gmail.com\n",
    "julia julia@julia.me\n",
    "julia sjulia@gmail.com\n",
    "julia julia@gmail.com\n",
    "samantha samantha@gmail.com\n",
    "tanya tanya@gmail.com\n",
    "\n",
    "Sample Output\n",
    "\n",
    "julia\n",
    "julia\n",
    "riya\n",
    "samantha\n",
    "tanya\n"
   ]
  },
  {
   "cell_type": "code",
   "execution_count": 1,
   "metadata": {},
   "outputs": [
    {
     "name": "stdout",
     "output_type": "stream",
     "text": [
      "6\n",
      "riya riya@gmail.com\n",
      "julia julia@julia.me\n",
      "julia sjulia@gmail.com\n",
      "julia julia@gmail.com\n",
      "samantha samantha@gmail.com\n",
      "tanya tanya@gmail.com\n",
      "julia\n",
      "julia\n",
      "riya\n",
      "samantha\n",
      "tanya\n"
     ]
    }
   ],
   "source": [
    "N = int(input().strip())\n",
    "names = []\n",
    "for a0 in range(N):\n",
    "    firstName,emailID = input().strip().split(' ')\n",
    "    firstName,emailID = [str(firstName),str(emailID)]\n",
    "    if emailID.find('@gmail.com')!=-1:\n",
    "        names.append(firstName)\n",
    "        \n",
    "print(*sorted(names), sep='\\n')"
   ]
  }
 ],
 "metadata": {
  "kernelspec": {
   "display_name": "Python 3",
   "language": "python",
   "name": "python3"
  },
  "language_info": {
   "codemirror_mode": {
    "name": "ipython",
    "version": 3
   },
   "file_extension": ".py",
   "mimetype": "text/x-python",
   "name": "python",
   "nbconvert_exporter": "python",
   "pygments_lexer": "ipython3",
   "version": "3.6.1"
  }
 },
 "nbformat": 4,
 "nbformat_minor": 2
}
