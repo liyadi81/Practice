{
 "cells": [
  {
   "cell_type": "markdown",
   "metadata": {},
   "source": [
    "# Day 22: Binary Search Trees\n",
    "\n",
    "https://www.hackerrank.com/challenges/30-binary-search-trees/problem\n",
    "\n",
    "Objective\n",
    "Today, we're working with Binary Search Trees (BSTs). Check out the Tutorial tab for learning materials and an instructional video!\n",
    "\n",
    "Task\n",
    "The height of a binary search tree is the number of edges between the tree's root and its furthest leaf. You are given a pointer, , pointing to the root of a binary search tree. Complete the getHeight function provided in your editor so that it returns the height of the binary search tree.\n",
    "\n",
    "Input Format\n",
    "\n",
    "The locked stub code in your editor reads the following inputs and assembles them into a binary search tree:\n",
    "The first line contains an integer, , denoting the number of nodes in the tree.\n",
    "Each of the subsequent lines contains an integer, , denoting the value of an element that must be added to the BST.\n",
    "\n",
    "Output Format\n",
    "\n",
    "The locked stub code in your editor will print the integer returned by your getHeight function denoting the height of the BST.\n",
    "\n",
    "Sample Input\n",
    "\n",
    "7\n",
    "3\n",
    "5\n",
    "2\n",
    "1\n",
    "4\n",
    "6\n",
    "7\n",
    "\n",
    "Sample Output\n",
    "\n",
    "3\n",
    "\n",
    "Explanation\n",
    "\n",
    "The input forms the following BST:\n",
    "\n",
    "[BST.png]\n",
    "\n",
    "The longest root-to-leaf path is shown below:\n",
    "\n",
    "[Longest RTL.png]\n",
    "\n",
    "There are nodes in this path that are connected by edges, meaning our BST's . Thus, we print as our answer."
   ]
  },
  {
   "cell_type": "code",
   "execution_count": 1,
   "metadata": {},
   "outputs": [
    {
     "name": "stdout",
     "output_type": "stream",
     "text": [
      "7\n",
      "3\n",
      "5\n",
      "2\n",
      "1\n",
      "4\n",
      "6\n",
      "7\n",
      "3\n"
     ]
    }
   ],
   "source": [
    "class Node:\n",
    "    def __init__(self,data):\n",
    "        self.right=self.left=None\n",
    "        self.data = data\n",
    "class Solution:\n",
    "    def insert(self,root,data):\n",
    "        if root==None:\n",
    "            return Node(data)\n",
    "        else:\n",
    "            if data<=root.data:\n",
    "                cur=self.insert(root.left,data)\n",
    "                root.left=cur\n",
    "            else:\n",
    "                cur=self.insert(root.right,data)\n",
    "                root.right=cur\n",
    "        return root\n",
    "    \n",
    "    def getHeight(self,root):\n",
    "        if root==None:\n",
    "            return(-1)\n",
    "        else:\n",
    "            height = 1+(max(self.getHeight(root.left), self.getHeight(root.right)))\n",
    "            return(height)\n",
    "        \n",
    "T=int(input())\n",
    "myTree=Solution()\n",
    "root=None\n",
    "for i in range(T):\n",
    "    data=int(input())\n",
    "    root=myTree.insert(root,data)\n",
    "height=myTree.getHeight(root)\n",
    "print(height)       "
   ]
  }
 ],
 "metadata": {
  "kernelspec": {
   "display_name": "Python 3",
   "language": "python",
   "name": "python3"
  },
  "language_info": {
   "codemirror_mode": {
    "name": "ipython",
    "version": 3
   },
   "file_extension": ".py",
   "mimetype": "text/x-python",
   "name": "python",
   "nbconvert_exporter": "python",
   "pygments_lexer": "ipython3",
   "version": "3.6.1"
  }
 },
 "nbformat": 4,
 "nbformat_minor": 2
}
