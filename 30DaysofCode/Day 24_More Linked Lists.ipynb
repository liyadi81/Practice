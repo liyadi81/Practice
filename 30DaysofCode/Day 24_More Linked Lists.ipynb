{
 "cells": [
  {
   "cell_type": "markdown",
   "metadata": {},
   "source": [
    "# Day 24: More Linked Lists\n",
    "\n",
    "https://www.hackerrank.com/challenges/30-linked-list-deletion/problem\n",
    "\n",
    "Objective \n",
    "Check out the Tutorial tab for learning materials and an instructional video!\n",
    "\n",
    "Task \n",
    "A Node class is provided for you in the editor. A Node object has an integer data field, , and a Node instance pointer, , pointing to another node (i.e.: the next node in a list).\n",
    "\n",
    "A removeDuplicates function is declared in your editor, which takes a pointer to the  node of a linked list as a parameter. Complete removeDuplicates so that it deletes any duplicate nodes from the list and returns the head of the updated list.\n",
    "\n",
    "Note: The  pointer may be null, indicating that the list is empty. Be sure to reset your  pointer when performing deletions to avoid breaking the list.\n",
    "\n",
    "Input Format\n",
    "\n",
    "You do not need to read any input from stdin. The following input is handled by the locked stub code and passed to the removeDuplicates function: \n",
    "The first line contains an integer, , the number of nodes to be inserted. \n",
    "The  subsequent lines each contain an integer describing the  value of a node being inserted at the list's tail.\n",
    "\n",
    "Constraints\n",
    "\n",
    "The data elements of the linked list argument will always be in non-decreasing order.\n",
    "Output Format\n",
    "\n",
    "Your removeDuplicates function should return the head of the updated linked list. The locked stub code in your editor will print the returned list to stdout.\n",
    "\n",
    "Sample Input\n",
    "\n",
    "6\n",
    "1\n",
    "2\n",
    "2\n",
    "3\n",
    "3\n",
    "4\n",
    "Sample Output\n",
    "\n",
    "1 2 3 4 \n",
    "Explanation\n",
    "\n",
    ", and our non-decreasing list is . The values  and  both occur twice in the list, so we remove the two duplicate nodes. We then return our updated (ascending) list, which is ."
   ]
  },
  {
   "cell_type": "code",
   "execution_count": 1,
   "metadata": {
    "collapsed": true
   },
   "outputs": [],
   "source": [
    "class Node:\n",
    "    def __init__(self,data):\n",
    "        self.data = data\n",
    "        self.next = None \n",
    "class Solution: \n",
    "    def insert(self,head,data):\n",
    "            p = Node(data)           \n",
    "            if head==None:\n",
    "                head=p\n",
    "            elif head.next==None:\n",
    "                head.next=p\n",
    "            else:\n",
    "                start=head\n",
    "                while(start.next!=None):\n",
    "                    start=start.next\n",
    "                start.next=p\n",
    "            return head  \n",
    "    def display(self,head):\n",
    "        current = head\n",
    "        while current:\n",
    "            print(current.data,end=' ')\n",
    "            current = current.next\n",
    "    def removeDuplicates(self,head):\n",
    "        unique = [head.data]\n",
    "        current = head\n",
    "        while current.next:\n",
    "            if current.next.data in unique:\n",
    "                current.next = current.next.next\n",
    "            else:\n",
    "                unique.append(current.next.data)\n",
    "                current = current.next\n",
    "        return(head)"
   ]
  },
  {
   "cell_type": "code",
   "execution_count": 2,
   "metadata": {},
   "outputs": [
    {
     "name": "stdout",
     "output_type": "stream",
     "text": [
      "6\n",
      "1\n",
      "2\n",
      "2\n",
      "3\n",
      "3\n",
      "4\n",
      "1 2 3 4 "
     ]
    }
   ],
   "source": [
    "mylist= Solution()\n",
    "T=int(input())\n",
    "head=None\n",
    "for i in range(T):\n",
    "    data=int(input())\n",
    "    head=mylist.insert(head,data)    \n",
    "head=mylist.removeDuplicates(head)\n",
    "mylist.display(head); "
   ]
  }
 ],
 "metadata": {
  "kernelspec": {
   "display_name": "Python 3",
   "language": "python",
   "name": "python3"
  },
  "language_info": {
   "codemirror_mode": {
    "name": "ipython",
    "version": 3
   },
   "file_extension": ".py",
   "mimetype": "text/x-python",
   "name": "python",
   "nbconvert_exporter": "python",
   "pygments_lexer": "ipython3",
   "version": "3.6.1"
  }
 },
 "nbformat": 4,
 "nbformat_minor": 2
}
