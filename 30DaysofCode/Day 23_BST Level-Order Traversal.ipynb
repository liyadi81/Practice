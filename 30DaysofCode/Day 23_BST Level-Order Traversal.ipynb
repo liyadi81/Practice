{
 "cells": [
  {
   "cell_type": "markdown",
   "metadata": {},
   "source": [
    "# Day 23: BST Level-Order Traversal\n",
    "\n",
    "https://www.hackerrank.com/challenges/30-binary-trees/problem\n",
    "\n",
    "Objective \n",
    "Today, we're going further with Binary Search Trees. Check out the Tutorial tab for learning materials and an instructional video!\n",
    "\n",
    "Task \n",
    "A level-order traversal, also known as a breadth-first search, visits each level of a tree's nodes from left to right, top to bottom. You are given a pointer, , pointing to the root of a binary search tree. Complete the levelOrder function provided in your editor so that it prints the level-order traversal of the binary search tree.\n",
    "\n",
    "Hint: You'll find a queue helpful in completing this challenge.\n",
    "\n",
    "Input Format\n",
    "\n",
    "The locked stub code in your editor reads the following inputs and assembles them into a BST: \n",
    "The first line contains an integer,  (the number of test cases). \n",
    "The  subsequent lines each contain an integer, , denoting the value of an element that must be added to the BST.\n",
    "\n",
    "Output Format\n",
    "\n",
    "Print the  value of each node in the tree's level-order traversal as a single line of  space-separated integers.\n",
    "\n",
    "Sample Input\n",
    "\n",
    "6\n",
    "3\n",
    "5\n",
    "4\n",
    "7\n",
    "2\n",
    "1\n",
    "Sample Output\n",
    "\n",
    "3 2 5 1 4 7 \n",
    "Explanation\n",
    "\n",
    "The input forms the following binary search tree: \n",
    "BST.png\n",
    "\n",
    "We traverse each level of the tree from the root downward, and we process the nodes at each level from left to right. The resulting level-order traversal is , and we print these data values as a single line of space-separated integers."
   ]
  },
  {
   "cell_type": "code",
   "execution_count": 1,
   "metadata": {
    "collapsed": true
   },
   "outputs": [],
   "source": [
    "class Node:\n",
    "    def __init__(self,data):\n",
    "        self.right=self.left=None\n",
    "        self.data = data\n",
    "class Solution:\n",
    "    def insert(self,root,data):\n",
    "        if root==None:\n",
    "            return Node(data)\n",
    "        else:\n",
    "            if data<=root.data:\n",
    "                cur=self.insert(root.left,data)\n",
    "                root.left=cur\n",
    "            else:\n",
    "                cur=self.insert(root.right,data)\n",
    "                root.right=cur\n",
    "        return root\n",
    "    def levelOrder(self,root):\n",
    "        q = [ root ]\n",
    "       \n",
    "        for current in q:    \n",
    "            if current:\n",
    "                print(current.data, end=' ')\n",
    "                q.append(current.left)\n",
    "                q.append(current.right) "
   ]
  },
  {
   "cell_type": "code",
   "execution_count": 2,
   "metadata": {},
   "outputs": [
    {
     "name": "stdout",
     "output_type": "stream",
     "text": [
      "6\n",
      "3\n",
      "5\n",
      "4\n",
      "7\n",
      "2\n",
      "1\n",
      "3 2 5 1 4 7 "
     ]
    }
   ],
   "source": [
    "T=int(input())\n",
    "myTree=Solution()\n",
    "root=None\n",
    "for i in range(T):\n",
    "    data=int(input())\n",
    "    root=myTree.insert(root,data)\n",
    "myTree.levelOrder(root)\n"
   ]
  }
 ],
 "metadata": {
  "kernelspec": {
   "display_name": "Python 3",
   "language": "python",
   "name": "python3"
  },
  "language_info": {
   "codemirror_mode": {
    "name": "ipython",
    "version": 3
   },
   "file_extension": ".py",
   "mimetype": "text/x-python",
   "name": "python",
   "nbconvert_exporter": "python",
   "pygments_lexer": "ipython3",
   "version": "3.6.1"
  }
 },
 "nbformat": 4,
 "nbformat_minor": 2
}
