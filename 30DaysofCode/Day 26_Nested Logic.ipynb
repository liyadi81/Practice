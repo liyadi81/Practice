{
 "cells": [
  {
   "cell_type": "markdown",
   "metadata": {},
   "source": [
    "# Day 26: Nested Logic\n",
    "\n",
    "https://www.hackerrank.com/challenges/30-nested-logic/problem\n",
    "\n",
    "Objective\n",
    "Today's challenge puts your understanding of nested conditional statements to the test. You already have the knowledge to complete this challenge, but check out the Tutorial tab for a video on testing!\n",
    "\n",
    "Task\n",
    "Your local library needs your help! Given the expected and actual return dates for a library book, create a program that calculates the fine (if any). The fee structure is as follows:\n",
    "\n",
    "    If the book is returned on or before the expected return date, no fine will be charged (i.e.: .\n",
    "    If the book is returned after the expected return day but still within the same calendar month and year as the expected return date, .\n",
    "    If the book is returned after the expected return month but still within the same calendar year as the expected return date, the .\n",
    "    If the book is returned after the calendar year in which it was expected, there is a fixed fine of .\n",
    "\n",
    "Input Format\n",
    "\n",
    "The first line contains space-separated integers denoting the respective , , and on which the book was actually returned.\n",
    "The second line contains space-separated integers denoting the respective , , and on which the book was expected to be returned (due date).\n",
    "\n",
    "Constraints\n",
    "\n",
    "Output Format\n",
    "\n",
    "Print a single integer denoting the library fine for the book received as input.\n",
    "\n",
    "Sample Input\n",
    "\n",
    "9 6 2015\n",
    "6 6 2015\n",
    "\n",
    "Sample Output\n",
    "\n",
    "45\n",
    "\n",
    "Explanation\n",
    "\n",
    "Given the following return dates:\n",
    "Actual:\n",
    "Expected:\n",
    "\n",
    "Because , we know it is less than a year late.\n",
    "Because , we know it's less than a month late.\n",
    "Because , we know that it was returned late (but still within the same month and year).\n",
    "\n",
    "Per the library's fee structure, we know that our fine will be . We then print the result of as our output."
   ]
  },
  {
   "cell_type": "code",
   "execution_count": 1,
   "metadata": {},
   "outputs": [
    {
     "name": "stdout",
     "output_type": "stream",
     "text": [
      "9 6 2015\n",
      "6 6 2015\n",
      "45\n"
     ]
    }
   ],
   "source": [
    "returned = [int(val) for val in input().split()]\n",
    "expected = [int(val) for val in input().split()]\n",
    "\n",
    "if returned[2]>expected[2]:\n",
    "    print(10000)\n",
    "elif returned[2]==expected[2]:\n",
    "    if returned[1]>expected[1]:\n",
    "        print((returned[1]-expected[1])*500)\n",
    "    elif returned[1]==expected[1]:\n",
    "        if returned[0]>expected[0]:\n",
    "            print((returned[0]-expected[0])*15)\n",
    "        else:\n",
    "            print(0)\n",
    "    else:\n",
    "        print(0)\n",
    "else:\n",
    "    print(0)"
   ]
  }
 ],
 "metadata": {
  "kernelspec": {
   "display_name": "Python 3",
   "language": "python",
   "name": "python3"
  },
  "language_info": {
   "codemirror_mode": {
    "name": "ipython",
    "version": 3
   },
   "file_extension": ".py",
   "mimetype": "text/x-python",
   "name": "python",
   "nbconvert_exporter": "python",
   "pygments_lexer": "ipython3",
   "version": "3.6.1"
  }
 },
 "nbformat": 4,
 "nbformat_minor": 2
}
