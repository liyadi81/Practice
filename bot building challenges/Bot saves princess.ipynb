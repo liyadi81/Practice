{
 "cells": [
  {
   "cell_type": "markdown",
   "metadata": {},
   "source": [
    "Princess Peach is trapped in one of the four corners of a square grid. You are in the center of the grid and can move one step at a time in any of the four directions. Can you rescue the princess?\n",
    "\n",
    "Input format\n",
    "\n",
    "The first line contains an odd integer N (3 <= N < 100) denoting the size of the grid. This is followed by an NxN grid. Each cell is denoted by '-' (ascii value: 45). The bot position is denoted by 'm' and the princess position is denoted by 'p'.\n",
    "\n",
    "Grid is indexed using Matrix Convention\n",
    "\n",
    "Output format\n",
    "\n",
    "Print out the moves you will take to rescue the princess in one go. The moves must be separated by '\\n', a newline. The valid moves are LEFT or RIGHT or UP or DOWN.\n",
    "\n",
    "Sample input\n",
    "\n",
    "3\n",
    "\n",
    "---\n",
    "-m-\n",
    "p--\n",
    "Sample output\n",
    "\n",
    "DOWN\n",
    "LEFT\n",
    "Task\n",
    "\n",
    "Complete the function displayPathtoPrincess which takes in two parameters - the integer N and the character array grid. The grid will be formatted exactly as you see it in the input, so for the sample input the princess is at grid[2][0]. The function shall output moves (LEFT, RIGHT, UP or DOWN) on consecutive lines to rescue/reach the princess. The goal is to reach the princess in as few moves as possible.\n",
    "\n",
    "The above sample input is just to help you understand the format. The princess ('p') can be in any one of the four corners.\n",
    "\n",
    "Scoring \n",
    "Your score is calculated as follows : (NxN - number of moves made to rescue the princess)/10, where N is the size of the grid (3x3 in the sample testcase).\n",
    "\n",
    "https://www.hackerrank.com/challenges/saveprincess"
   ]
  },
  {
   "cell_type": "code",
   "execution_count": 1,
   "metadata": {},
   "outputs": [
    {
     "name": "stdout",
     "output_type": "stream",
     "text": [
      "3\n",
      "---\n",
      "-m-\n",
      "p--\n",
      "DOWN\n",
      "LEFT\n"
     ]
    }
   ],
   "source": [
    "def displayPathtoPrincess(n,grid):\n",
    "    findp = [row.find('p') for row in grid]\n",
    "    prince = [findp.index(max(findp)), max(findp)]\n",
    "    bot = [m//2, m//2]\n",
    "    dist = [x-y for x,y in zip(prince, bot)]\n",
    "    route=[]\n",
    "    if dist[0]>0:\n",
    "        route.extend(['DOWN' for i in range(dist[0])])\n",
    "    else:\n",
    "        route.extend(['UP' for i in range(abs(dist[0]))])\n",
    "\n",
    "    if dist[1]>0:\n",
    "        route.extend(['RIGHT' for i in range(dist[1])])\n",
    "    else:\n",
    "        route.extend(['LEFT' for i in range(abs(dist[1]))])\n",
    "    print(*route, sep='\\n')\n",
    "    \n",
    "#print all the moves here\n",
    "m = int(input())\n",
    "grid = [] \n",
    "for i in range(0, m): \n",
    "    grid.append(input().strip())\n",
    "\n",
    "displayPathtoPrincess(m,grid)\n"
   ]
  }
 ],
 "metadata": {
  "kernelspec": {
   "display_name": "Python 3",
   "language": "python",
   "name": "python3"
  },
  "language_info": {
   "codemirror_mode": {
    "name": "ipython",
    "version": 3
   },
   "file_extension": ".py",
   "mimetype": "text/x-python",
   "name": "python",
   "nbconvert_exporter": "python",
   "pygments_lexer": "ipython3",
   "version": "3.6.1"
  }
 },
 "nbformat": 4,
 "nbformat_minor": 2
}
