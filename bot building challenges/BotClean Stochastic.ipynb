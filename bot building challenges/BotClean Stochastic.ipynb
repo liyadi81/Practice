{
 "cells": [
  {
   "cell_type": "markdown",
   "metadata": {},
   "source": [
    "A deterministic environment is one where the next state is completely determined by the current state of the environment and the task executed by the agent. If there is any randomness involved in determining the next state, the environment is stochastic.\n",
    "\n",
    "The game Bot Clean took place in a deterministic environment. In this version, the bot is given 200 moves to clean as many dirty cells as possible. The grid initially has 1 dirty cell. When the bot cleans this cell, a new cell in the grid is made dirty. The new cell can be anywhere in the grid.\n",
    "\n",
    "The bot here is positioned at the top left corner of a 5*5 grid. Your task is to move the bot to appropriate dirty cell and clean it.\n",
    "\n",
    "Input Format \n",
    "The first line contains two single spaced integers which indicates the current position of the bot. The grid is indexed (x, y) 0<=x,y<=4 top to bottom and left to right respectively. Refer to to board convention here.\n",
    "\n",
    "5 lines follow showing the grid rows. Each cell in the grid is represented by any of the following 3 characters:\n",
    "\n",
    "'b' (ascii value 98) - the bot's current position (if on clean cell).\n",
    "\n",
    "'d' (ascii value 100) - a dirty cell (even if the robot is present on top of it).\n",
    "\n",
    "'-' (ascii value 45) - a clean cell in the grid.\n",
    "\n",
    "Sample Input\n",
    "\n",
    "0 0\n",
    "b---d\n",
    "-----\n",
    "-----\n",
    "-----\n",
    "-----\n",
    "Output Format\n",
    "\n",
    "Output is the action that is taken by the bot in the current step and it can be any of the movements in 4 directions or cleaning the cell in which it is currently located. The output formats are LEFT, RIGHT, UP and DOWN or CLEAN. Output CLEAN to clean the dirty cell. Repeat this process until all the cells on the grid are cleaned.\n",
    "\n",
    "Sample Output\n",
    "\n",
    "RIGHT\n",
    "Resultant State\n",
    "\n",
    "-b--d\n",
    "-----\n",
    "-----\n",
    "-----\n",
    "-----\n",
    "The bot is positioned now at (0,1) and is 1 step closer to the dirty cell. The next input will be\n",
    "\n",
    "0 1\n",
    "-b--d\n",
    "-----\n",
    "-----\n",
    "-----\n",
    "-----\n",
    "Task\n",
    "\n",
    "Complete the function nextMove that takes in 3 parameters posr, posc being the co-ordinates of the bot’s current position and board which indicates the board state, and print the bot’s next move.\n",
    "\n",
    "Scoring\n",
    "\n",
    "At the end of 200 moves, your score will be equal to the number of dirty cell the bot has cleaned divided by 4.\n",
    "\n",
    "https://www.hackerrank.com/challenges/botcleanr/problem"
   ]
  },
  {
   "cell_type": "code",
   "execution_count": 1,
   "metadata": {},
   "outputs": [
    {
     "name": "stdout",
     "output_type": "stream",
     "text": [
      "0 0\n",
      "b---d\n",
      "-----\n",
      "-----\n",
      "-----\n",
      "-----\n",
      "RIGHT\n"
     ]
    }
   ],
   "source": [
    "def nextMove(posr, posc, board):\n",
    "    if board[posr][posc]=='d':\n",
    "        print('CLEAN')\n",
    "    else:\n",
    "        nextd = []\n",
    "        for dirtyr in range(5):\n",
    "            try:\n",
    "                dirtyc = board[dirtyr].index('d')\n",
    "            except:\n",
    "                continue\n",
    "            nextd.extend([dirtyr, dirtyc])\n",
    "            break\n",
    "        bot = [posr, posc]\n",
    "        dist = [x-y for x,y in zip(nextd, bot)]\n",
    "        if abs(dist[0])>abs(dist[1]):\n",
    "            if dist[0]>0:\n",
    "                print('DOWN')\n",
    "            else:\n",
    "                print('UP')\n",
    "        else:\n",
    "            if dist[1]>0:\n",
    "                print('RIGHT')\n",
    "            else:\n",
    "                print('LEFT')\n",
    "    \n",
    "if __name__ == \"__main__\":\n",
    "    pos = [int(i) for i in input().strip().split()]\n",
    "    board = [input() for i in range(5)]\n",
    "    nextMove(pos[0], pos[1], board)"
   ]
  }
 ],
 "metadata": {
  "kernelspec": {
   "display_name": "Python 3",
   "language": "python",
   "name": "python3"
  },
  "language_info": {
   "codemirror_mode": {
    "name": "ipython",
    "version": 3
   },
   "file_extension": ".py",
   "mimetype": "text/x-python",
   "name": "python",
   "nbconvert_exporter": "python",
   "pygments_lexer": "ipython3",
   "version": "3.6.1"
  }
 },
 "nbformat": 4,
 "nbformat_minor": 2
}
