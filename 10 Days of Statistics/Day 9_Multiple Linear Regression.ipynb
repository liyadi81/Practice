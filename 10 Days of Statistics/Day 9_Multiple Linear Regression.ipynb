{
 "cells": [
  {
   "cell_type": "markdown",
   "metadata": {},
   "source": [
    "Objective \n",
    "In this challenge, we practice using multiple linear regression. Check out the Tutorial tab for learning materials!\n",
    "\n",
    "Task \n",
    "Andrea has a simple equation:\n",
    "\n",
    "for  real constants (, , , , ). We can say that the value of  depends on  features. Andrea studies this equation for  different feature sets  and records each respective value of . If she has  new feature sets, can you help Andrea find the value of  for each of the sets?\n",
    "Note: You are not expected to account for bias and variance trade-offs.\n",
    "\n",
    "Input Format\n",
    "\n",
    "The first line contains  space-separated integers,  (the number of observed features) and  (the number of feature sets Andrea studied), respectively. \n",
    "Each of the  subsequent lines contain  space-separated decimals; the first  elements are features , and the last element is the value of  for the line's feature set.\n",
    "The next line contains a single integer, , denoting the number of feature sets Andrea wants to query for. \n",
    "Each of the  subsequent lines contains  space-separated decimals describing the feature sets.\n",
    "\n",
    "Constraints\n",
    "\n",
    "Scoring\n",
    "For each feature set in one test case, we will compute the following:\n",
    "\n",
    ". We will permit up to a  margin of error.\n",
    "The normalized score for each test case will be: . If the challenge is worth  points, then your score will be .\n",
    "\n",
    "Output Format\n",
    "\n",
    "For each of the  feature sets, print the value of  on a new line (i.e., you must print a total of  lines).\n",
    "\n",
    "Sample Input\n",
    "\n",
    "2 7\n",
    "0.18 0.89 109.85\n",
    "1.0 0.26 155.72\n",
    "0.92 0.11 137.66\n",
    "0.07 0.37 76.17\n",
    "0.85 0.16 139.75\n",
    "0.99 0.41 162.6\n",
    "0.87 0.47 151.77\n",
    "4\n",
    "0.49 0.18\n",
    "0.57 0.83\n",
    "0.56 0.64\n",
    "0.76 0.18\n",
    "Sample Output\n",
    "\n",
    "105.22\n",
    "142.68\n",
    "132.94\n",
    "129.71\n",
    "Explanation\n",
    "\n",
    "We're given , so . We're also given , so we determine that Andrea studied the following feature sets:\n",
    "\n",
    "We use the information above to find the values of , , and . Then, we find the value of  for each of the feature sets.\n",
    "\n",
    "https://www.hackerrank.com/challenges/s10-multiple-linear-regression/problem"
   ]
  },
  {
   "cell_type": "code",
   "execution_count": 1,
   "metadata": {},
   "outputs": [
    {
     "name": "stdout",
     "output_type": "stream",
     "text": [
      "2 7\n",
      "0.18 0.89 109.85\n",
      "1.0 0.26 155.72\n",
      "0.92 0.11 137.66\n",
      "0.07 0.37 76.17\n",
      "0.85 0.16 139.75\n",
      "0.99 0.41 162.6\n",
      "0.87 0.47 151.77\n",
      "4\n",
      "0.49 0.18\n",
      "0.57 0.83\n",
      "0.56 0.64\n",
      "0.76 0.18\n",
      "105.21\n",
      "142.67\n",
      "132.94\n",
      "129.7\n"
     ]
    }
   ],
   "source": [
    "from sklearn import linear_model\n",
    "import numpy as np\n",
    "\n",
    "m,n=[int(val) for val in input().split()]\n",
    "train_x = np.zeros([n,m])\n",
    "train_y = np.zeros(n)\n",
    "for i in range(n):\n",
    "    *train_x[i], train_y[i]=[float(val) for val in input().split()]\n",
    "\n",
    "mlr = linear_model.LinearRegression()\n",
    "mlr.fit(train_x, train_y.reshape(-1,1))\n",
    "\n",
    "q = int(input())\n",
    "test_x = np.zeros([q,m])\n",
    "for i in range(q):\n",
    "    test_x[i] = [float(val) for val in input().split()]\n",
    "    \n",
    "print(*[round(val,2) for val in mlr.predict(test_x).reshape([1,-1])[0]], sep='\\n')"
   ]
  }
 ],
 "metadata": {
  "kernelspec": {
   "display_name": "Python 3",
   "language": "python",
   "name": "python3"
  },
  "language_info": {
   "codemirror_mode": {
    "name": "ipython",
    "version": 3
   },
   "file_extension": ".py",
   "mimetype": "text/x-python",
   "name": "python",
   "nbconvert_exporter": "python",
   "pygments_lexer": "ipython3",
   "version": "3.6.1"
  }
 },
 "nbformat": 4,
 "nbformat_minor": 2
}
