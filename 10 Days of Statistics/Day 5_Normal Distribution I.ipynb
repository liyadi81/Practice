{
 "cells": [
  {
   "cell_type": "markdown",
   "metadata": {},
   "source": [
    "Objective\n",
    "In this challenge, we learn about normal distributions. Check out the Tutorial tab for learning materials!\n",
    "\n",
    "Task\n",
    "In a certain plant, the time taken to assemble a car is a random variable, , having a normal distribution with a mean of hours and a standard deviation of hours. What is the probability that a car can be assembled at this plant in:\n",
    "\n",
    "    Less than hours?\n",
    "    Between and hours?\n",
    "\n",
    "Input Format\n",
    "\n",
    "There are lines of input (shown below):\n",
    "\n",
    "20 2\n",
    "19.5\n",
    "20 22\n",
    "\n",
    "The first line contains space-separated values denoting the respective mean and standard deviation for . The second line contains the number associated with question . The third line contains space-separated values describing the respective lower and upper range boundaries for question .\n",
    "\n",
    "If you do not wish to read this information from stdin, you can hard-code it into your program.\n",
    "\n",
    "Output Format\n",
    "\n",
    "There are two lines of output. Your answers must be rounded to a scale of decimal places (i.e., format):\n",
    "\n",
    "    On the first line, print the answer to question (i.e., the probability that a car can be assembled in less than hours).\n",
    "    On the second line, print the answer to question (i.e., the probability that a car can be assembled in between to hours).\n",
    "\n",
    "https://www.hackerrank.com/challenges/s10-normal-distribution-1/problem"
   ]
  },
  {
   "cell_type": "code",
   "execution_count": 17,
   "metadata": {},
   "outputs": [
    {
     "name": "stdout",
     "output_type": "stream",
     "text": [
      "20 2\n",
      "19.5\n",
      "20 22\n",
      "0.401\n",
      "0.341\n"
     ]
    }
   ],
   "source": [
    "from math import erf\n",
    "\n",
    "class normal:\n",
    "    def __init__(self, avg, std):\n",
    "        self.avg = avg\n",
    "        self.std = std\n",
    "        \n",
    "    def cdf(self, x):\n",
    "        return(0.5*(1+erf((x-self.avg)/(self.std*2**0.5))))\n",
    "    \n",
    "avg, std = [float(val) for val in input().split()]\n",
    "max1 = float(input())\n",
    "min2, max2 = [float(val) for val in input().split()]\n",
    "\n",
    "car = normal(avg, std)\n",
    "\n",
    "print(\"{:.3f}\".format(car.cdf(max1)))\n",
    "print(\"{:.3f}\".format(car.cdf(max2)-car.cdf(min2)))"
   ]
  },
  {
   "cell_type": "code",
   "execution_count": 16,
   "metadata": {},
   "outputs": [
    {
     "name": "stdout",
     "output_type": "stream",
     "text": [
      "20 2\n",
      "19.5\n",
      "20 22\n",
      "0.401\n",
      "0.341\n"
     ]
    }
   ],
   "source": [
    "from scipy import stats\n",
    "\n",
    "avg, std = [float(val) for val in input().split()]\n",
    "max1 = float(input())\n",
    "min2, max2 = [float(val) for val in input().split()]\n",
    "\n",
    "car = stats.norm(loc=avg, scale=std)\n",
    "print(\"{:.3f}\".format(car.cdf(max1)))\n",
    "print(\"{:.3f}\".format(car.cdf(max2)-car.cdf(min2)))"
   ]
  }
 ],
 "metadata": {
  "kernelspec": {
   "display_name": "Python 3",
   "language": "python",
   "name": "python3"
  },
  "language_info": {
   "codemirror_mode": {
    "name": "ipython",
    "version": 3
   },
   "file_extension": ".py",
   "mimetype": "text/x-python",
   "name": "python",
   "nbconvert_exporter": "python",
   "pygments_lexer": "ipython3",
   "version": "3.6.1"
  }
 },
 "nbformat": 4,
 "nbformat_minor": 2
}
