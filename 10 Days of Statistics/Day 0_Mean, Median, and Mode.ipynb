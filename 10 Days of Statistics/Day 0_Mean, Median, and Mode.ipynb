{
 "cells": [
  {
   "cell_type": "markdown",
   "metadata": {},
   "source": [
    "Objective\n",
    "In this challenge, we practice calculating the mean, median, and mode. Check out the Tutorial tab for learning materials and an instructional video!\n",
    "\n",
    "Task\n",
    "Given an array, , of integers, calculate and print the respective mean, median, and mode on separate lines. If your array contains more than one modal value, choose the numerically smallest one.\n",
    "\n",
    "Note: Other than the modal value (which will always be an integer), your answers should be in decimal form, rounded to a scale of decimal place (i.e., , format).\n",
    "\n",
    "Input Format\n",
    "\n",
    "The first line contains an integer, , denoting the number of elements in the array.\n",
    "The second line contains space-separated integers describing the array's elements.\n",
    "\n",
    "Constraints\n",
    "\n",
    "    , where is the element of the array.\n",
    "\n",
    "Output Format\n",
    "\n",
    "Print lines of output in the following order:\n",
    "\n",
    "    Print the mean on a new line, to a scale of decimal place (i.e., , ).\n",
    "    Print the median on a new line, to a scale of decimal place (i.e., , ).\n",
    "    Print the mode on a new line; if more than one such value exists, print the numerically smallest one.\n",
    "\n",
    "Sample Input\n",
    "\n",
    "10\n",
    "64630 11735 14216 99233 14470 4978 73429 38120 51135 67060\n",
    "\n",
    "Sample Output\n",
    "\n",
    "43900.6\n",
    "44627.5\n",
    "4978\n",
    "\n",
    "Explanation\n",
    "\n",
    "Mean:\n",
    "We sum all elements in the array, divide the sum by , and print our result on a new line.\n",
    "\n",
    "Median:\n",
    "To calculate the median, we need the elements of the array to be sorted in either non-increasing or non-decreasing order. The sorted array . We then average the two middle elements:\n",
    "and print our result on a new line.\n",
    "\n",
    "Mode:\n",
    "We can find the number of occurrences of all the elements in the array:\n",
    "\n",
    " 4978 : 1\n",
    "11735 : 1\n",
    "14216 : 1\n",
    "14470 : 1\n",
    "38120 : 1\n",
    "51135 : 1\n",
    "64630 : 1\n",
    "67060 : 1\n",
    "73429 : 1\n",
    "99233 : 1\n",
    "\n",
    "Every number occurs once, making the maximum number of occurrences for any number in . Because we have multiple values to choose from, we want to select the smallest one, , and print it on a new line.\n",
    "\n",
    "https://www.hackerrank.com/challenges/s10-basic-statistics/problem"
   ]
  },
  {
   "cell_type": "code",
   "execution_count": 1,
   "metadata": {},
   "outputs": [
    {
     "name": "stdout",
     "output_type": "stream",
     "text": [
      "10\n",
      "64630 11735 14216 99233 14470 4978 73429 38120 51135 67060\n",
      "43900.6\n",
      "44627.5\n",
      "4978\n"
     ]
    }
   ],
   "source": [
    "n = int(input().strip())\n",
    "a = list(map(int, input().strip().split(' ')))\n",
    "a.sort()\n",
    "print(sum(a)/n)\n",
    "\n",
    "if n%2 == 0:\n",
    "    print((a[int(n/2-1)]+a[int(n/2)])/2)\n",
    "else:\n",
    "    print(a[int((n-1)/2)])\n",
    "\n",
    "count_num = {}\n",
    "for i in a:\n",
    "    count_num[i] = count_num.get(i,0)+1\n",
    "mode, count = 0, 0    \n",
    "for key,value in count_num.items():\n",
    "    if value>count:\n",
    "        mode = key\n",
    "        count = value\n",
    "    elif value==count:\n",
    "        mode = min(mode, key)\n",
    "print(mode)"
   ]
  },
  {
   "cell_type": "code",
   "execution_count": 3,
   "metadata": {},
   "outputs": [
    {
     "name": "stdout",
     "output_type": "stream",
     "text": [
      "10\n",
      "64630 11735 14216 99233 14470 4978 73429 38120 51135 67060\n",
      "43900.6\n",
      "44627.5\n",
      "4978\n"
     ]
    }
   ],
   "source": [
    "import numpy as np\n",
    "from scipy import stats\n",
    "\n",
    "n = int(input().strip())\n",
    "a = list(map(int, input().strip().split(' ')))\n",
    "\n",
    "print(np.mean(a))\n",
    "print(np.median(a))\n",
    "print(int(stats.mode(a)[0]))"
   ]
  }
 ],
 "metadata": {
  "kernelspec": {
   "display_name": "Python 3",
   "language": "python",
   "name": "python3"
  },
  "language_info": {
   "codemirror_mode": {
    "name": "ipython",
    "version": 3
   },
   "file_extension": ".py",
   "mimetype": "text/x-python",
   "name": "python",
   "nbconvert_exporter": "python",
   "pygments_lexer": "ipython3",
   "version": "3.6.1"
  }
 },
 "nbformat": 4,
 "nbformat_minor": 2
}
