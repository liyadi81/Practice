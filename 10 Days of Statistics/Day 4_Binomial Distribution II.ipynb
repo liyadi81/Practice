{
 "cells": [
  {
   "cell_type": "markdown",
   "metadata": {},
   "source": [
    "Objective\n",
    "In this challenge, we go further with binomial distributions. We recommend reviewing the previous challenge's Tutorial before attempting this problem.\n",
    "\n",
    "Task\n",
    "A manufacturer of metal pistons finds that, on average, of the pistons they manufacture are rejected because they are incorrectly sized. What is the probability that a batch of pistons will contain:\n",
    "\n",
    "    No more than rejects?\n",
    "    At least rejects?\n",
    "\n",
    "Input Format\n",
    "\n",
    "A single line containing the following values (denoting the respective percentage of defective pistons and the size of the current batch of pistons):\n",
    "\n",
    "12 10\n",
    "\n",
    "If you do not wish to read this information from stdin, you can hard-code it into your program.\n",
    "\n",
    "Output Format\n",
    "\n",
    "Print the answer to each question on its own line:\n",
    "\n",
    "    The first line should contain the probability that a batch of pistons will contain no more than rejects.\n",
    "    The second line should contain the probability that a batch of pistons will contain at least rejects.\n",
    "\n",
    "Round both of your answers to a scale of decimal places (i.e., format).\n",
    "\n",
    "https://www.hackerrank.com/challenges/s10-binomial-distribution-2/problem"
   ]
  },
  {
   "cell_type": "code",
   "execution_count": 2,
   "metadata": {},
   "outputs": [
    {
     "name": "stdout",
     "output_type": "stream",
     "text": [
      "12 10\n",
      "0.891\n",
      "0.342\n"
     ]
    }
   ],
   "source": [
    "from math import factorial\n",
    "\n",
    "def binomial_p(x, n, p):\n",
    "    res = (factorial(n)/(factorial(x)*factorial(n-x)))*(p**x)*((1-p)**(n-x))\n",
    "    return(res)\n",
    "\n",
    "percentage, n = [int(val) for val in input().split()]\n",
    "ans1 = sum([binomial_p(x, n, percentage/100) for x in range(0, 3)])\n",
    "ans2 = sum([binomial_p(x, n, percentage/100) for x in range(2, n+1)])\n",
    "print(\"{:.3f}\\n{:.3f}\".format(ans1,ans2))"
   ]
  }
 ],
 "metadata": {
  "kernelspec": {
   "display_name": "Python 3",
   "language": "python",
   "name": "python3"
  },
  "language_info": {
   "codemirror_mode": {
    "name": "ipython",
    "version": 3
   },
   "file_extension": ".py",
   "mimetype": "text/x-python",
   "name": "python",
   "nbconvert_exporter": "python",
   "pygments_lexer": "ipython3",
   "version": "3.6.1"
  }
 },
 "nbformat": 4,
 "nbformat_minor": 2
}
