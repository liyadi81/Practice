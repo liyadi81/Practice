{
 "cells": [
  {
   "cell_type": "markdown",
   "metadata": {},
   "source": [
    "Objective\n",
    "In this challenge, we go further with Poisson distributions. We recommend reviewing the previous challenge's Tutorial before attempting this problem.\n",
    "\n",
    "Task\n",
    "The manager of a industrial plant is planning to buy a machine of either type or type . For each day’s operation:\n",
    "\n",
    "    The number of repairs, , that machine needs is a Poisson random variable with mean . The daily cost of operating is .\n",
    "    The number of repairs, , that machine needs is a Poisson random variable with mean . The daily cost of operating is .\n",
    "\n",
    "Assume that the repairs take a negligible amount of time and the machines are maintained nightly to ensure that they operate like new at the start of each day. Find and print the expected daily cost for each machine.\n",
    "\n",
    "Input Format\n",
    "\n",
    "A single line comprised of space-separated values denoting the respective means for and :\n",
    "\n",
    "0.88 1.55\n",
    "\n",
    "If you do not wish to read this information from stdin, you can hard-code it into your program.\n",
    "\n",
    "Output Format\n",
    "\n",
    "There are two lines of output. Your answers must be rounded to a scale of decimal places (i.e., format):\n",
    "\n",
    "    On the first line, print the expected daily cost of machine .\n",
    "    On the second line, print the expected daily cost of machine .\n",
    "\n",
    "https://www.hackerrank.com/challenges/s10-poisson-distribution-2/problem"
   ]
  },
  {
   "cell_type": "code",
   "execution_count": 1,
   "metadata": {},
   "outputs": [
    {
     "name": "stdout",
     "output_type": "stream",
     "text": [
      "0.88 1.55\n",
      "226.176\n",
      "286.1\n"
     ]
    }
   ],
   "source": [
    "A,B = [float(val) for val in input().split()]\n",
    "CostA = 160 + 40*(A+A**2)\n",
    "CostB = 128 + 40*(B+B**2)\n",
    "print(CostA)\n",
    "print(CostB)"
   ]
  },
  {
   "cell_type": "markdown",
   "metadata": {},
   "source": [
    "# Note:\n",
    "<img src=\"image.png\">"
   ]
  }
 ],
 "metadata": {
  "kernelspec": {
   "display_name": "Python 3",
   "language": "python",
   "name": "python3"
  },
  "language_info": {
   "codemirror_mode": {
    "name": "ipython",
    "version": 3
   },
   "file_extension": ".py",
   "mimetype": "text/x-python",
   "name": "python",
   "nbconvert_exporter": "python",
   "pygments_lexer": "ipython3",
   "version": "3.6.1"
  }
 },
 "nbformat": 4,
 "nbformat_minor": 2
}
