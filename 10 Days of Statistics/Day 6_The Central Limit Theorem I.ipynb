{
 "cells": [
  {
   "cell_type": "markdown",
   "metadata": {},
   "source": [
    "Objective\n",
    "In this challenge, we practice solving problems based on the Central Limit Theorem. Check out the Tutorial tab for learning materials!\n",
    "\n",
    "Task\n",
    "A large elevator can transport a maximum of pounds. Suppose a load of cargo containing boxes must be transported via the elevator. The box weight of this type of cargo follows a distribution with a mean of pounds and a standard deviation of pounds. Based on this information, what is the probability that all boxes can be safely loaded into the freight elevator and transported?\n",
    "\n",
    "Input Format\n",
    "\n",
    "There are lines of input (shown below):\n",
    "\n",
    "9800\n",
    "49\n",
    "205\n",
    "15\n",
    "\n",
    "The first line contains the maximum weight the elevator can transport. The second line contains the number of boxes in the cargo. The third line contains the mean weight of a cargo box, and the fourth line contains its standard deviation.\n",
    "\n",
    "If you do not wish to read this information from stdin, you can hard-code it into your program.\n",
    "\n",
    "Output Format\n",
    "\n",
    "Print the probability that the elevator can successfully transport all boxes, rounded to a scale of decimal places (i.e., format).\n",
    "\n",
    "https://www.hackerrank.com/challenges/s10-the-central-limit-theorem-1/problem"
   ]
  },
  {
   "cell_type": "code",
   "execution_count": 1,
   "metadata": {},
   "outputs": [
    {
     "name": "stdout",
     "output_type": "stream",
     "text": [
      "9800\n",
      "49\n",
      "205\n",
      "15\n",
      "0.0098\n"
     ]
    }
   ],
   "source": [
    "from math import erf\n",
    "\n",
    "class normal:\n",
    "    def __init__(self, avg, std):\n",
    "        self.avg = avg\n",
    "        self.std = std\n",
    "        \n",
    "    def cdf(self, x):\n",
    "        return(0.5*(1+erf((x-self.avg)/(self.std*2**0.5))))\n",
    "\n",
    "max_weight = int(input())\n",
    "num_boxes = int(input())\n",
    "avg_boxweight = float(input())\n",
    "std_boxweight = float(input())\n",
    "\n",
    "boxes = normal(avg_boxweight*num_boxes, std_boxweight*num_boxes**0.5)\n",
    "print(\"{:.4f}\".format(boxes.cdf(max_weight)))\n"
   ]
  },
  {
   "attachments": {},
   "cell_type": "markdown",
   "metadata": {},
   "source": [
    "# note:\n",
    "<img src=\"central_limit_theorem.PNG\">"
   ]
  }
 ],
 "metadata": {
  "kernelspec": {
   "display_name": "Python 3",
   "language": "python",
   "name": "python3"
  },
  "language_info": {
   "codemirror_mode": {
    "name": "ipython",
    "version": 3
   },
   "file_extension": ".py",
   "mimetype": "text/x-python",
   "name": "python",
   "nbconvert_exporter": "python",
   "pygments_lexer": "ipython3",
   "version": "3.6.1"
  }
 },
 "nbformat": 4,
 "nbformat_minor": 2
}
