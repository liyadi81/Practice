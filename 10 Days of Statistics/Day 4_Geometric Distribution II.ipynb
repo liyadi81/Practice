{
 "cells": [
  {
   "cell_type": "markdown",
   "metadata": {},
   "source": [
    "Objective\n",
    "In this challenge, we go further with geometric distributions. We recommend reviewing the Geometric Distribution tutorial before attempting this challenge.\n",
    "\n",
    "Task\n",
    "The probability that a machine produces a defective product is . What is the probability that the defect is found during the first inspections?\n",
    "\n",
    "Input Format\n",
    "\n",
    "The first line contains the respective space-separated numerator and denominator for the probability of a defect, and the second line contains the inspection we want the probability of the first defect being discovered by:\n",
    "\n",
    "1 3\n",
    "5\n",
    "\n",
    "If you do not wish to read this information from stdin, you can hard-code it into your program.\n",
    "\n",
    "Output Format\n",
    "\n",
    "Print a single line denoting the answer, rounded to a scale of decimal places (i.e., format).\n",
    "\n",
    "https://www.hackerrank.com/challenges/s10-geometric-distribution-2/problem"
   ]
  },
  {
   "cell_type": "code",
   "execution_count": 1,
   "metadata": {},
   "outputs": [
    {
     "name": "stdout",
     "output_type": "stream",
     "text": [
      "1 3\n",
      "5\n",
      "0.868\n"
     ]
    }
   ],
   "source": [
    "numerator, denominator=[int(val) for val in input().split()]\n",
    "inspections = int(input())\n",
    "p = numerator/denominator\n",
    "\n",
    "def defect(x,p):\n",
    "    res = (1 - p)**(x-1)*p\n",
    "    return(res)\n",
    "    \n",
    "print(\"{:.3f}\".format(sum([defect(x, p) for x in range(1, inspections+1)])))"
   ]
  }
 ],
 "metadata": {
  "kernelspec": {
   "display_name": "Python 3",
   "language": "python",
   "name": "python3"
  },
  "language_info": {
   "codemirror_mode": {
    "name": "ipython",
    "version": 3
   },
   "file_extension": ".py",
   "mimetype": "text/x-python",
   "name": "python",
   "nbconvert_exporter": "python",
   "pygments_lexer": "ipython3",
   "version": "3.6.1"
  }
 },
 "nbformat": 4,
 "nbformat_minor": 2
}
