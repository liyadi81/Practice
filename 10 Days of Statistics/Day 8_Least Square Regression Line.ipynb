{
 "cells": [
  {
   "cell_type": "markdown",
   "metadata": {},
   "source": [
    "Objective \n",
    "In this challenge, we practice using linear regression techniques. Check out the Tutorial tab for learning materials!\n",
    "\n",
    "Task \n",
    "A group of five students enrolls in Statistics immediately after taking a Math aptitude test. Each student's Math aptitude test score, , and Statistics course grade, , can be expressed as the following list of  points:\n",
    "\n",
    "If a student scored an  on the Math aptitude test, what grade would we expect them to achieve in Statistics? Determine the equation of the best-fit line using the least squares method, then compute and print the value of when .\n",
    "\n",
    "Input Format\n",
    "\n",
    "There are five lines of input; each line contains two space-separated integers describing a student's respective  and  grades:\n",
    "\n",
    "95 85\n",
    "85 95\n",
    "80 70\n",
    "70 65\n",
    "60 70\n",
    "If you do not wish to read this information from stdin, you can hard-code it into your program.\n",
    "\n",
    "Output Format\n",
    "\n",
    "Print a single line denoting the answer, rounded to a scale of  decimal places (i.e.,  format).\n",
    "\n",
    "https://www.hackerrank.com/challenges/s10-least-square-regression-line/problem\n",
    "https://www.hackerrank.com/challenges/s10-least-square-regression-line/tutorial"
   ]
  },
  {
   "cell_type": "code",
   "execution_count": 1,
   "metadata": {},
   "outputs": [
    {
     "name": "stdout",
     "output_type": "stream",
     "text": [
      "95 85\n",
      "85 95\n",
      "80 70\n",
      "70 65\n",
      "60 70\n",
      "78.288\n"
     ]
    }
   ],
   "source": [
    "import statistics as st\n",
    "\n",
    "X=[0 for i in range(5)]\n",
    "Y=[0 for i in range(5)]\n",
    "for i in range(5):\n",
    "    X[i], Y[i] = [int(val) for val in input().split()]\n",
    "\n",
    "beta1 = sum([(x-st.mean(X))*(y-st.mean(Y)) for x,y in zip(X,Y)])/sum([(x-st.mean(X))**2 for x in X])\n",
    "beta0 = st.mean(Y)-beta1*st.mean(X)\n",
    "\n",
    "print(\"{:.3f}\".format(beta0+beta1*80))"
   ]
  },
  {
   "cell_type": "code",
   "execution_count": 11,
   "metadata": {},
   "outputs": [
    {
     "name": "stdout",
     "output_type": "stream",
     "text": [
      "95 85\n",
      "85 95\n",
      "80 70\n",
      "70 65\n",
      "60 70\n",
      "78.288\n"
     ]
    }
   ],
   "source": [
    "from sklearn import linear_model\n",
    "import numpy as np\n",
    "\n",
    "x = np.zeros(5)\n",
    "y = np.zeros(5)\n",
    "\n",
    "for i in range(5):\n",
    "    x[i], y[i] = [int(val) for val in input().split()]\n",
    "    \n",
    "score = linear_model.LinearRegression()\n",
    "score.fit(x.reshape(-1,1), y.reshape(-1,1))\n",
    "print(round(score.predict(80)[0,0],3))"
   ]
  }
 ],
 "metadata": {
  "kernelspec": {
   "display_name": "Python 3",
   "language": "python",
   "name": "python3"
  },
  "language_info": {
   "codemirror_mode": {
    "name": "ipython",
    "version": 3
   },
   "file_extension": ".py",
   "mimetype": "text/x-python",
   "name": "python",
   "nbconvert_exporter": "python",
   "pygments_lexer": "ipython3",
   "version": "3.6.1"
  }
 },
 "nbformat": 4,
 "nbformat_minor": 2
}
