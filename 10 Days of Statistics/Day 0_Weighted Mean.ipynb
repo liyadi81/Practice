{
 "cells": [
  {
   "cell_type": "markdown",
   "metadata": {},
   "source": [
    "Objective\n",
    "In the previous challenge, we calculated a mean. In this challenge, we practice calculating a weighted mean. Check out the Tutorial tab for learning materials and an instructional video!\n",
    "\n",
    "Task\n",
    "Given an array, , of integers and an array, , representing the respective weights of 's elements, calculate and print the weighted mean of 's elements. Your answer should be rounded to a scale of decimal place (i.e., format).\n",
    "\n",
    "Input Format\n",
    "\n",
    "The first line contains an integer, , denoting the number of elements in arrays and .\n",
    "The second line contains space-separated integers describing the respective elements of array .\n",
    "The third line contains space-separated integers describing the respective elements of array .\n",
    "\n",
    "Constraints\n",
    "\n",
    "    , where is the element of array .\n",
    "    , where is the element of array .\n",
    "\n",
    "Output Format\n",
    "\n",
    "Print the weighted mean on a new line. Your answer should be rounded to a scale of decimal place (i.e., format).\n",
    "\n",
    "Sample Input\n",
    "\n",
    "5\n",
    "10 40 30 50 20\n",
    "1 2 3 4 5\n",
    "\n",
    "Sample Output\n",
    "\n",
    "32.0\n",
    "\n",
    "Explanation\n",
    "\n",
    "We use the following formula to calculate the weighted mean:\n",
    "\n",
    "And then print our result to a scale of decimal place () on a new line.\n",
    "\n",
    "https://www.hackerrank.com/challenges/s10-weighted-mean/problem"
   ]
  },
  {
   "cell_type": "code",
   "execution_count": 1,
   "metadata": {},
   "outputs": [
    {
     "name": "stdout",
     "output_type": "stream",
     "text": [
      "5\n",
      "10 40 30 50 20\n",
      "1 2 3 4 5\n",
      "32.0\n"
     ]
    }
   ],
   "source": [
    "n = int(input())\n",
    "nums = [int(val) for val in input().split()]\n",
    "weights = [int(val) for val in input().split()]\n",
    "\n",
    "print(\"{:0.1f}\".format(sum([num*weights for num,weights in zip(nums,weights)])/sum(weights)))"
   ]
  },
  {
   "cell_type": "code",
   "execution_count": 2,
   "metadata": {},
   "outputs": [
    {
     "name": "stdout",
     "output_type": "stream",
     "text": [
      "5\n",
      "10 40 30 50 20\n",
      "1 2 3 4 5\n",
      "32.0\n"
     ]
    }
   ],
   "source": [
    "import numpy as np\n",
    "\n",
    "n = int(input())\n",
    "nums = np.matrix([int(val) for val in input().split()])\n",
    "weights = np.matrix([int(val) for val in input().split()])\n",
    "\n",
    "wt_avg = nums*weights.T/weights.sum()\n",
    "print(round(wt_avg[0,0],1))"
   ]
  }
 ],
 "metadata": {
  "kernelspec": {
   "display_name": "Python 3",
   "language": "python",
   "name": "python3"
  },
  "language_info": {
   "codemirror_mode": {
    "name": "ipython",
    "version": 3
   },
   "file_extension": ".py",
   "mimetype": "text/x-python",
   "name": "python",
   "nbconvert_exporter": "python",
   "pygments_lexer": "ipython3",
   "version": "3.6.1"
  }
 },
 "nbformat": 4,
 "nbformat_minor": 2
}
