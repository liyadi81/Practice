{
 "cells": [
  {
   "cell_type": "markdown",
   "metadata": {},
   "source": [
    "Objective\n",
    "In this challenge, we practice calculating quartiles. Check out the Tutorial tab for learning materials and an instructional video!\n",
    "\n",
    "Task\n",
    "Given an array, , of integers, calculate the respective first quartile (), second quartile (), and third quartile (). It is guaranteed that , , and are integers.\n",
    "\n",
    "Input Format\n",
    "\n",
    "The first line contains an integer, , denoting the number of elements in the array.\n",
    "The second line contains space-separated integers describing the array's elements.\n",
    "\n",
    "Constraints\n",
    "\n",
    "    , where is the element of the array.\n",
    "\n",
    "Output Format\n",
    "\n",
    "Print lines of output in the following order:\n",
    "\n",
    "    The first line should be the value of .\n",
    "    The second line should be the value of .\n",
    "    The third line should be the value of .\n",
    "\n",
    "Sample Input\n",
    "\n",
    "9\n",
    "3 7 8 5 12 14 21 13 18\n",
    "\n",
    "Sample Output\n",
    "\n",
    "6\n",
    "12\n",
    "16\n",
    "\n",
    "Explanation\n",
    "\n",
    ". When we sort the elements in non-decreasing order, we get . It's easy to see that .\n",
    "\n",
    "As there are an odd number of data points, we do not include the median (the central value in the ordered list) in either half:\n",
    "\n",
    "    Lower half (L): 3, 5, 7, 8\n",
    "\n",
    "    Upper half (U): 13, 14, 18, 21\n",
    "\n",
    "Now, we find the quartiles:\n",
    "\n",
    "    is the . So, .\n",
    "    is the . So, .\n",
    "    is the . So, .\n",
    "\n",
    "https://www.hackerrank.com/challenges/s10-quartiles/problem"
   ]
  },
  {
   "cell_type": "code",
   "execution_count": 1,
   "metadata": {},
   "outputs": [
    {
     "name": "stdout",
     "output_type": "stream",
     "text": [
      "9\n",
      "3 7 8 5 12 14 21 13 18\n",
      "6\n",
      "12\n",
      "16\n"
     ]
    }
   ],
   "source": [
    "from math import ceil\n",
    "\n",
    "def getmedian(nums, n):\n",
    "    return((nums[ceil(n/2)-1]+nums[-(ceil(n/2))])/2)\n",
    "\n",
    "n = int(input())\n",
    "nums = sorted([int(val) for val in input().split()])\n",
    "\n",
    "Q2 = getmedian(nums,n)\n",
    "\n",
    "lowerhalf = nums[:(n//2)]\n",
    "upperhalf = nums[ceil(n/2):]\n",
    "\n",
    "Q1 = getmedian(lowerhalf, len(lowerhalf))\n",
    "Q3 = getmedian(upperhalf, len(upperhalf))\n",
    "\n",
    "print(*[int(val) for val in [Q1, Q2, Q3]], sep='\\n')"
   ]
  }
 ],
 "metadata": {
  "kernelspec": {
   "display_name": "Python 3",
   "language": "python",
   "name": "python3"
  },
  "language_info": {
   "codemirror_mode": {
    "name": "ipython",
    "version": 3
   },
   "file_extension": ".py",
   "mimetype": "text/x-python",
   "name": "python",
   "nbconvert_exporter": "python",
   "pygments_lexer": "ipython3",
   "version": "3.6.1"
  }
 },
 "nbformat": 4,
 "nbformat_minor": 2
}
