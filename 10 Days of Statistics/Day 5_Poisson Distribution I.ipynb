{
 "cells": [
  {
   "cell_type": "markdown",
   "metadata": {},
   "source": [
    "Objective\n",
    "In this challenge, we learn about Poisson distributions. Check out the Tutorial tab for learning materials!\n",
    "\n",
    "Task\n",
    "A random variable, , follows Poisson distribution with mean of . Find the probability with which the random variable is equal to .\n",
    "\n",
    "Input Format\n",
    "\n",
    "The first line contains 's mean. The second line contains the value we want the probability for:\n",
    "\n",
    "2.5\n",
    "5\n",
    "\n",
    "If you do not wish to read this information from stdin, you can hard-code it into your program.\n",
    "\n",
    "Output Format\n",
    "\n",
    "Print a single line denoting the answer, rounded to a scale of decimal places (i.e., format).\n",
    "\n",
    "https://www.hackerrank.com/challenges/s10-poisson-distribution-1/problem"
   ]
  },
  {
   "cell_type": "code",
   "execution_count": 1,
   "metadata": {},
   "outputs": [
    {
     "name": "stdout",
     "output_type": "stream",
     "text": [
      "2.5\n",
      "5\n",
      "0.067\n"
     ]
    }
   ],
   "source": [
    "import math\n",
    "\n",
    "avg = float(input())\n",
    "k = int(input())\n",
    "\n",
    "def poisson(k, avg):\n",
    "    p = avg**k*(math.e)**(-avg)/math.factorial(k)\n",
    "    return(round(p,3))\n",
    "\n",
    "print(poisson(k,avg))"
   ]
  }
 ],
 "metadata": {
  "kernelspec": {
   "display_name": "Python 3",
   "language": "python",
   "name": "python3"
  },
  "language_info": {
   "codemirror_mode": {
    "name": "ipython",
    "version": 3
   },
   "file_extension": ".py",
   "mimetype": "text/x-python",
   "name": "python",
   "nbconvert_exporter": "python",
   "pygments_lexer": "ipython3",
   "version": "3.6.1"
  }
 },
 "nbformat": 4,
 "nbformat_minor": 2
}
