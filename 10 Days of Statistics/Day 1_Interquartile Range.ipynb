{
 "cells": [
  {
   "cell_type": "markdown",
   "metadata": {},
   "source": [
    "Objective\n",
    "In this challenge, we practice calculating the interquartile range. We recommend you complete the Quartiles challenge before attempting this problem.\n",
    "\n",
    "Task\n",
    "The interquartile range of an array is the difference between its first () and third () quartiles (i.e., ).\n",
    "\n",
    "Given an array, , of integers and an array, , representing the respective frequencies of 's elements, construct a data set, , where each occurs at frequency . Then calculate and print 's interquartile range, rounded to a scale of decimal place (i.e., format).\n",
    "\n",
    "Tip: Be careful to not use integer division when averaging the middle two elements for a data set with an even number of elements, and be sure to not include the median in your upper and lower data sets.\n",
    "\n",
    "Input Format\n",
    "\n",
    "The first line contains an integer, , denoting the number of elements in arrays and .\n",
    "The second line contains space-separated integers describing the respective elements of array .\n",
    "The third line contains space-separated integers describing the respective elements of array .\n",
    "\n",
    "Constraints\n",
    "\n",
    "    , where is the element of array .\n",
    "    , where is the element of array .\n",
    "    The number of elements in is equal to .\n",
    "\n",
    "Output Format\n",
    "\n",
    "Print the interquartile range for the expanded data set on a new line. Round your answer to a scale of decimal place (i.e., format).\n",
    "\n",
    "Sample Input\n",
    "\n",
    "6\n",
    "6 12 8 10 20 16\n",
    "5 4 3 2 1 5\n",
    "\n",
    "Sample Output\n",
    "\n",
    "9.0\n",
    "\n",
    "Explanation\n",
    "\n",
    "The given data is:\n",
    "\n",
    "InterquartileRange\n",
    "\n",
    "First, we create data set containing the data from set at the respective frequencies specified by :\n",
    "\n",
    "As there are an even number of data points in the original ordered data set, we will split this data set exactly in half:\n",
    "\n",
    "    Lower half (L): 6, 6, 6, 6, 6, 8, 8, 8, 10, 10\n",
    "\n",
    "    Upper half (U): 12, 12, 12, 12, 16, 16, 16, 16, 16, 20\n",
    "\n",
    "Next, we find . There are elements in half, so is the average of the middle two elements: and . Thus, .\n",
    "\n",
    "Next, we find .There are elements in half, so is the average of the middle two elements: and . Thus, .\n",
    "\n",
    "From this, we calculate the interquartile range as and print as our answer.\n",
    "\n",
    "https://www.hackerrank.com/challenges/s10-interquartile-range/problem"
   ]
  },
  {
   "cell_type": "code",
   "execution_count": 4,
   "metadata": {},
   "outputs": [
    {
     "name": "stdout",
     "output_type": "stream",
     "text": [
      "6\n",
      "6 12 8 10 20 16\n",
      "5 6 7 8 9 10\n",
      "8.0\n"
     ]
    }
   ],
   "source": [
    "from math import ceil\n",
    "\n",
    "def getmedian(nums, n):\n",
    "    return((nums[ceil(n/2)-1]+nums[-(ceil(n/2))])/2)\n",
    "\n",
    "def getquartiles(nums, n):\n",
    "    lowerhalf = nums[:(n//2)]\n",
    "    upperhalf = nums[ceil(n/2):]\n",
    "    Q1 = getmedian(lowerhalf, len(lowerhalf))\n",
    "    Q3 = getmedian(upperhalf, len(upperhalf))\n",
    "    return([Q1,Q3])\n",
    "\n",
    "n = int(input())\n",
    "nums = [int(val) for val in input().split()]\n",
    "reps = [int(val) for val in input().split()]\n",
    "\n",
    "S = []\n",
    "for num,rep in zip(nums, reps):\n",
    "    S.extend([num for i in range(rep)])\n",
    "S.sort()\n",
    "res = getquartiles(S, len(S))\n",
    "print(res[1]-res[0])\n",
    "\n"
   ]
  }
 ],
 "metadata": {
  "kernelspec": {
   "display_name": "Python 3",
   "language": "python",
   "name": "python3"
  },
  "language_info": {
   "codemirror_mode": {
    "name": "ipython",
    "version": 3
   },
   "file_extension": ".py",
   "mimetype": "text/x-python",
   "name": "python",
   "nbconvert_exporter": "python",
   "pygments_lexer": "ipython3",
   "version": "3.6.1"
  }
 },
 "nbformat": 4,
 "nbformat_minor": 2
}
