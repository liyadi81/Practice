{
 "cells": [
  {
   "cell_type": "markdown",
   "metadata": {},
   "source": [
    "Objective\n",
    "In this challenge, we practice calculating standard deviation. Check out the Tutorial tab for learning materials and an instructional video!\n",
    "\n",
    "Task\n",
    "Given an array, , of integers, calculate and print the standard deviation. Your answer should be in decimal form, rounded to a scale of decimal place (i.e., format). An error margin of will be tolerated for the standard deviation.\n",
    "\n",
    "Input Format\n",
    "\n",
    "The first line contains an integer, , denoting the number of elements in the array.\n",
    "The second line contains space-separated integers describing the respective elements of the array.\n",
    "\n",
    "Constraints\n",
    "\n",
    "    , where is the element of array .\n",
    "\n",
    "Output Format\n",
    "\n",
    "Print the standard deviation on a new line, rounded to a scale of decimal place (i.e., format).\n",
    "\n",
    "Sample Input\n",
    "\n",
    "5\n",
    "10 40 30 50 20\n",
    "\n",
    "Sample Output\n",
    "\n",
    "14.1\n",
    "\n",
    "Explanation\n",
    "\n",
    "First, we find the mean:\n",
    "\n",
    "Next, we calculate the squared distance from the mean, , for each :\n",
    "\n",
    "Now we can compute , so:\n",
    "\n",
    "Once rounded to a scale of decimal place, our result is .\n",
    "\n",
    "https://www.hackerrank.com/challenges/s10-standard-deviation/problem"
   ]
  },
  {
   "cell_type": "code",
   "execution_count": 1,
   "metadata": {},
   "outputs": [
    {
     "name": "stdout",
     "output_type": "stream",
     "text": [
      "5\n",
      "10 40 30 50 20\n",
      "14.1\n"
     ]
    }
   ],
   "source": [
    "from statistics import pstdev\n",
    "\n",
    "n = int(input())\n",
    "nums = [int(val) for val in input().split()]\n",
    "\n",
    "print(round(pstdev(nums),1))"
   ]
  },
  {
   "cell_type": "code",
   "execution_count": 6,
   "metadata": {},
   "outputs": [
    {
     "name": "stdout",
     "output_type": "stream",
     "text": [
      "5\n",
      "10 40 30 50 20\n",
      "14.1\n"
     ]
    }
   ],
   "source": [
    "n = int(input())\n",
    "nums = [int(val) for val in input().split()]\n",
    "\n",
    "mean = sum(nums)/n\n",
    "res = (sum([(x-mean)**2 for x in nums])/n)**0.5\n",
    "print(round(res, 1))"
   ]
  }
 ],
 "metadata": {
  "kernelspec": {
   "display_name": "Python 3",
   "language": "python",
   "name": "python3"
  },
  "language_info": {
   "codemirror_mode": {
    "name": "ipython",
    "version": 3
   },
   "file_extension": ".py",
   "mimetype": "text/x-python",
   "name": "python",
   "nbconvert_exporter": "python",
   "pygments_lexer": "ipython3",
   "version": "3.6.1"
  }
 },
 "nbformat": 4,
 "nbformat_minor": 2
}
