{
 "cells": [
  {
   "cell_type": "markdown",
   "metadata": {},
   "source": [
    "Objective\n",
    "In this challenge, we go further with normal distributions. We recommend reviewing the previous challenge's Tutorial before attempting this problem.\n",
    "\n",
    "Task\n",
    "The final grades for a Physics exam taken by a large group of students have a mean of and a standard deviation of . If we can approximate the distribution of these grades by a normal distribution, what percentage of the students:\n",
    "\n",
    "    Scored higher than (i.e., have a )?\n",
    "    Passed the test (i.e., have a )?\n",
    "    Failed the test (i.e., have a )?\n",
    "\n",
    "Find and print the answer to each question on a new line, rounded to a scale of decimal places.\n",
    "\n",
    "Input Format\n",
    "\n",
    "There are lines of input (shown below):\n",
    "\n",
    "70 10\n",
    "80\n",
    "60\n",
    "\n",
    "The first line contains space-separated values denoting the respective mean and standard deviation for the exam. The second line contains the number associated with question . The third line contains the pass/fail threshold number associated with questions and .\n",
    "\n",
    "If you do not wish to read this information from stdin, you can hard-code it into your program.\n",
    "\n",
    "Output Format\n",
    "\n",
    "There are three lines of output. Your answers must be rounded to a scale of decimal places (i.e., format):\n",
    "\n",
    "    On the first line, print the answer to question (i.e., the percentage of students having ).\n",
    "    On the second line, print the answer to question (i.e., the percentage of students having ).\n",
    "    On the third line, print the answer to question (i.e., the percentage of students having ).\n",
    "\n",
    "https://www.hackerrank.com/challenges/s10-normal-distribution-2/problem"
   ]
  },
  {
   "cell_type": "code",
   "execution_count": 1,
   "metadata": {},
   "outputs": [
    {
     "name": "stdout",
     "output_type": "stream",
     "text": [
      "70 10\n",
      "80\n",
      "60\n",
      "15.87\n",
      "84.13\n",
      "15.87\n"
     ]
    }
   ],
   "source": [
    "from math import erf\n",
    "\n",
    "class normal:\n",
    "    def __init__(self, avg, std):\n",
    "        self.avg = avg\n",
    "        self.std = std\n",
    "        \n",
    "    def cdf(self, x):\n",
    "        return(0.5*(1+erf((x-self.avg)/(self.std*2**0.5))))\n",
    "    \n",
    "avg, std = [float(val) for val in input().split()]\n",
    "threshold1 = float(input())\n",
    "threshold2 = float(input())\n",
    "\n",
    "score = normal(avg, std)\n",
    "print(\"{:.2f}\".format((1-score.cdf(threshold1))*100))  # used 1 to match the expected result, however score.cdf(100) make more sense.\n",
    "print(\"{:.2f}\".format((1-score.cdf(threshold2))*100))\n",
    "print(\"{:.2f}\".format((score.cdf(threshold2)-score.cdf(0))*100))"
   ]
  }
 ],
 "metadata": {
  "kernelspec": {
   "display_name": "Python 3",
   "language": "python",
   "name": "python3"
  },
  "language_info": {
   "codemirror_mode": {
    "name": "ipython",
    "version": 3
   },
   "file_extension": ".py",
   "mimetype": "text/x-python",
   "name": "python",
   "nbconvert_exporter": "python",
   "pygments_lexer": "ipython3",
   "version": "3.6.1"
  }
 },
 "nbformat": 4,
 "nbformat_minor": 2
}
