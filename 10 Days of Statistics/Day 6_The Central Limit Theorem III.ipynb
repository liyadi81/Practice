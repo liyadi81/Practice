{
 "cells": [
  {
   "cell_type": "markdown",
   "metadata": {},
   "source": [
    "Objective\n",
    "In this challenge, we practice solving problems based on the Central Limit Theorem. We recommend reviewing the Central Limit Theorem Tutorial before attempting this challenge.\n",
    "\n",
    "Task\n",
    "You have a sample of values from a population with mean and with standard deviation . Compute the interval that covers the middle of the distribution of the sample mean; in other words, compute and such that . Use the value of . Note that is the z-score.\n",
    "\n",
    "Input Format\n",
    "\n",
    "There are five lines of input (shown below):\n",
    "\n",
    "100\n",
    "500\n",
    "80\n",
    ".95\n",
    "1.96\n",
    "\n",
    "The first line contains the sample size. The second and third lines contain the respective mean () and standard deviation (). The fourth line contains the distribution percentage we want to cover (as a decimal), and the fifth line contains the value of .\n",
    "\n",
    "If you do not wish to read this information from stdin, you can hard-code it into your program.\n",
    "\n",
    "Output Format\n",
    "\n",
    "Print the following two lines of output, rounded to a scale of decimal places (i.e., format):\n",
    "\n",
    "    On the first line, print the value of .\n",
    "    On the second line, print the value of .\n",
    "\n",
    "https://www.hackerrank.com/challenges/s10-the-central-limit-theorem-3/problem"
   ]
  },
  {
   "cell_type": "code",
   "execution_count": 1,
   "metadata": {},
   "outputs": [
    {
     "name": "stdout",
     "output_type": "stream",
     "text": [
      "100\n",
      "500\n",
      "80\n",
      "0.95\n",
      "1.96\n",
      "484.32\n",
      "515.68\n"
     ]
    }
   ],
   "source": [
    "n = int(input())\n",
    "avg = float(input())\n",
    "std = float(input())\n",
    "interval = float(input())\n",
    "z = float(input())\n",
    "\n",
    "print(\"{:.2f}\".format(avg-z*std/n**0.5))\n",
    "print(\"{:.2f}\".format(avg+z*std/n**0.5))"
   ]
  },
  {
   "cell_type": "markdown",
   "metadata": {},
   "source": [
    "# Note:\n",
    "https://www.hackerrank.com/challenges/s10-the-central-limit-theorem-3/editorial"
   ]
  }
 ],
 "metadata": {
  "kernelspec": {
   "display_name": "Python 3",
   "language": "python",
   "name": "python3"
  },
  "language_info": {
   "codemirror_mode": {
    "name": "ipython",
    "version": 3
   },
   "file_extension": ".py",
   "mimetype": "text/x-python",
   "name": "python",
   "nbconvert_exporter": "python",
   "pygments_lexer": "ipython3",
   "version": "3.6.1"
  }
 },
 "nbformat": 4,
 "nbformat_minor": 2
}
