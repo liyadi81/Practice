{
 "cells": [
  {
   "cell_type": "markdown",
   "metadata": {},
   "source": [
    "Objective\n",
    "In this challenge, we learn about geometric distributions. Check out the Tutorial tab for learning materials!\n",
    "\n",
    "Task\n",
    "The probability that a machine produces a defective product is . What is the probability that the defect is found during the inspection?\n",
    "\n",
    "Input Format\n",
    "\n",
    "The first line contains the respective space-separated numerator and denominator for the probability of a defect, and the second line contains the inspection we want the probability of being the first defect for:\n",
    "\n",
    "1 3\n",
    "5\n",
    "\n",
    "If you do not wish to read this information from stdin, you can hard-code it into your program.\n",
    "\n",
    "Output Format\n",
    "\n",
    "Print a single line denoting the answer, rounded to a scale of decimal places (i.e., format).\n",
    "\n",
    "https://www.hackerrank.com/challenges/s10-geometric-distribution-1/problem"
   ]
  },
  {
   "cell_type": "code",
   "execution_count": 1,
   "metadata": {},
   "outputs": [
    {
     "name": "stdout",
     "output_type": "stream",
     "text": [
      "1 3\n",
      "5\n",
      "0.066\n"
     ]
    }
   ],
   "source": [
    "numerator, denominator=[int(val) for val in input().split()]\n",
    "first_defect = int(input())\n",
    "\n",
    "res = (1 - numerator/denominator)**(first_defect-1)*(numerator/denominator)\n",
    "print(round(res, 3))"
   ]
  }
 ],
 "metadata": {
  "kernelspec": {
   "display_name": "Python 3",
   "language": "python",
   "name": "python3"
  },
  "language_info": {
   "codemirror_mode": {
    "name": "ipython",
    "version": 3
   },
   "file_extension": ".py",
   "mimetype": "text/x-python",
   "name": "python",
   "nbconvert_exporter": "python",
   "pygments_lexer": "ipython3",
   "version": "3.6.1"
  }
 },
 "nbformat": 4,
 "nbformat_minor": 2
}
