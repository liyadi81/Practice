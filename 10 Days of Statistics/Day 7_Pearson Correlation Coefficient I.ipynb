{
 "cells": [
  {
   "cell_type": "markdown",
   "metadata": {},
   "source": [
    "Objective \n",
    "In this challenge, we practice calculating the Pearson correlation coefficient. Check out the Tutorial tab for learning materials!\n",
    "\n",
    "Task\n",
    "Given two -element data sets,  and , calculate the value of the Pearson correlation coefficient.\n",
    "\n",
    "Input Format\n",
    "\n",
    "The first line contains an integer, , denoting the size of data sets  and . \n",
    "The second line contains  space-separated real numbers (scaled to at most one decimal place), defining data set . \n",
    "The third line contains  space-separated real numbers (scaled to at most one decimal place), defining data set .\n",
    "\n",
    "Constraints\n",
    "\n",
    ", where  is the  value of data set .\n",
    ", where  is the  value of data set .\n",
    "Data set  contains unique values.\n",
    "Data set  contains unique values.\n",
    "Output Format\n",
    "\n",
    "Print the value of the Pearson correlation coefficient, rounded to a scale of  decimal places.\n",
    "\n",
    "Sample Input\n",
    "\n",
    "10\n",
    "10 9.8 8 7.8 7.7 7 6 5 4 2 \n",
    "200 44 32 24 22 17 15 12 8 4\n",
    "Sample Output\n",
    "\n",
    "0.612\n",
    "Explanation\n",
    "\n",
    "The mean and standard deviation of data set  are:\n",
    "\n",
    "The mean and standard deviation of data set  are:\n",
    "\n",
    "We use the following formula to calculate the Pearson correlation coefficient:\n",
    "\n",
    "https://www.hackerrank.com/challenges/s10-pearson-correlation-coefficient/problem"
   ]
  },
  {
   "cell_type": "code",
   "execution_count": 1,
   "metadata": {},
   "outputs": [
    {
     "name": "stdout",
     "output_type": "stream",
     "text": [
      "10\n",
      "10 9.8 8 7.8 7.7 7 6 5 4 2\n",
      "200 44 32 24 22 17 15 12 8 4\n",
      "0.612\n"
     ]
    }
   ],
   "source": [
    "import statistics as st\n",
    "\n",
    "n = int(input())\n",
    "X = [float(val) for val in input().split()]\n",
    "Y = [float(val) for val in input().split()]\n",
    "\n",
    "res = sum([(x-st.mean(X))*(y-st.mean(Y)) for x,y in zip(X,Y)])/(n*st.pstdev(X)*st.pstdev(Y))\n",
    "print(round(res, 3))"
   ]
  }
 ],
 "metadata": {
  "kernelspec": {
   "display_name": "Python 3",
   "language": "python",
   "name": "python3"
  },
  "language_info": {
   "codemirror_mode": {
    "name": "ipython",
    "version": 3
   },
   "file_extension": ".py",
   "mimetype": "text/x-python",
   "name": "python",
   "nbconvert_exporter": "python",
   "pygments_lexer": "ipython3",
   "version": "3.6.1"
  }
 },
 "nbformat": 4,
 "nbformat_minor": 2
}
