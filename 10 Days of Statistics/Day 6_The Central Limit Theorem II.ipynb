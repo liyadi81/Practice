{
 "cells": [
  {
   "cell_type": "markdown",
   "metadata": {},
   "source": [
    "Objective\n",
    "In this challenge, we practice solving problems based on the Central Limit Theorem. We recommend reviewing the Central Limit Theorem Tutorial before attempting this challenge.\n",
    "\n",
    "Task\n",
    "The number of tickets purchased by each student for the University X vs. University Y football game follows a distribution that has a mean of and a standard deviation of .\n",
    "\n",
    "A few hours before the game starts, eager students line up to purchase last-minute tickets. If there are only tickets left, what is the probability that all students will be able to purchase tickets?\n",
    "\n",
    "Input Format\n",
    "\n",
    "There are lines of input (shown below):\n",
    "\n",
    "250\n",
    "100\n",
    "2.4\n",
    "2.0\n",
    "\n",
    "The first line contains the number of last-minute tickets available at the box office. The second line contains the number of students waiting to buy tickets. The third line contains the mean number of purchased tickets, and the fourth line contains the standard deviation.\n",
    "\n",
    "If you do not wish to read this information from stdin, you can hard-code it into your program.\n",
    "\n",
    "Output Format\n",
    "\n",
    "Print the probability that students can successfully purchase the remaining tickets, rounded to a scale of decimal places (i.e., format).\n",
    "\n",
    "https://www.hackerrank.com/challenges/s10-the-central-limit-theorem-2/problem"
   ]
  },
  {
   "cell_type": "code",
   "execution_count": 1,
   "metadata": {},
   "outputs": [
    {
     "name": "stdout",
     "output_type": "stream",
     "text": [
      "250\n",
      "100\n",
      "2.4\n",
      "2.0\n",
      "0.6915\n"
     ]
    }
   ],
   "source": [
    "from math import erf\n",
    "\n",
    "class normal:\n",
    "    def __init__(self, avg, std):\n",
    "        self.avg = avg\n",
    "        self.std = std\n",
    "        \n",
    "    def cdf(self, x):\n",
    "        return(0.5*(1+erf((x-self.avg)/(self.std*2**0.5))))\n",
    "\n",
    "tickets = int(input())\n",
    "students = int(input())\n",
    "avg = float(input())\n",
    "std = float(input())\n",
    "\n",
    "football_game = normal(avg*students, std*students**0.5)\n",
    "print(\"{:.4f}\".format(football_game.cdf(tickets)))"
   ]
  }
 ],
 "metadata": {
  "kernelspec": {
   "display_name": "Python 3",
   "language": "python",
   "name": "python3"
  },
  "language_info": {
   "codemirror_mode": {
    "name": "ipython",
    "version": 3
   },
   "file_extension": ".py",
   "mimetype": "text/x-python",
   "name": "python",
   "nbconvert_exporter": "python",
   "pygments_lexer": "ipython3",
   "version": "3.6.1"
  }
 },
 "nbformat": 4,
 "nbformat_minor": 2
}
