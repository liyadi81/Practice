{
 "cells": [
  {
   "cell_type": "markdown",
   "metadata": {},
   "source": [
    "The median of a dataset of integers is the midpoint value of the dataset for which an equal number of integers are less than and greater than the value. To find the median, you must first sort your dataset of integers in non-decreasing order, then:\n",
    "\n",
    "If your dataset contains an odd number of elements, the median is the middle element of the sorted sample. In the sorted dataset ,  is the median.\n",
    "If your dataset contains an even number of elements, the median is the average of the two middle elements of the sorted sample. In the sorted dataset ,  is the median.\n",
    "Given an input stream of  integers, you must perform the following task for each  integer:\n",
    "\n",
    "Add the  integer to a running list of integers.\n",
    "Find the median of the updated list (i.e., for the first element through the  element).\n",
    "Print the list's updated median on a new line. The printed value must be a double-precision number scaled to decimal place (i.e.,  format).\n",
    "Input Format\n",
    "\n",
    "The first line contains a single integer, , denoting the number of integers in the data stream. \n",
    "Each line  of the  subsequent lines contains an integer, , to be added to your list.\n",
    "\n",
    "Constraints\n",
    "\n",
    "Output Format\n",
    "\n",
    "After each new integer is added to the list, print the list's updated median on a new line as a single double-precision number scaled to  decimal place (i.e.,  format).\n",
    "\n",
    "Sample Input\n",
    "\n",
    "6\n",
    "12\n",
    "4\n",
    "5\n",
    "3\n",
    "8\n",
    "7\n",
    "Sample Output\n",
    "\n",
    "12.0\n",
    "8.0\n",
    "5.0\n",
    "4.5\n",
    "5.0\n",
    "6.0\n",
    "Explanation\n",
    "\n",
    "There are  integers, so we must print the new median on a new line as each integer is added to the list:\n",
    "\n",
    "https://www.hackerrank.com/challenges/ctci-find-the-running-median/problem"
   ]
  },
  {
   "cell_type": "code",
   "execution_count": 6,
   "metadata": {},
   "outputs": [
    {
     "name": "stdout",
     "output_type": "stream",
     "text": [
      "6\n",
      "12\n",
      "12.0\n",
      "4\n",
      "8.0\n",
      "5\n",
      "5.0\n",
      "3\n",
      "4.5\n",
      "8\n",
      "5.0\n",
      "7\n",
      "6.0\n"
     ]
    }
   ],
   "source": [
    "import sys\n",
    "import bisect\n",
    "\n",
    "n = int(input().strip())\n",
    "a = []\n",
    "a_i = 0\n",
    "for a_i in range(n):\n",
    "    a_t = int(input().strip())\n",
    "    bisect.insort(a, a_t)\n",
    "    if len(a)%2 != 0:\n",
    "        print(float(a[int((len(a)-1)/2)]))\n",
    "    else:\n",
    "        print(float((a[int(len(a)/2-1)]+a[int(len(a)/2)])/2))\n"
   ]
  }
 ],
 "metadata": {
  "kernelspec": {
   "display_name": "Python 3",
   "language": "python",
   "name": "python3"
  },
  "language_info": {
   "codemirror_mode": {
    "name": "ipython",
    "version": 3
   },
   "file_extension": ".py",
   "mimetype": "text/x-python",
   "name": "python",
   "nbconvert_exporter": "python",
   "pygments_lexer": "ipython3",
   "version": "3.6.1"
  }
 },
 "nbformat": 4,
 "nbformat_minor": 2
}
