{
 "cells": [
  {
   "cell_type": "markdown",
   "metadata": {},
   "source": [
    "A kidnapper wrote a ransom note but is worried it will be traced back to him. He found a magazine and wants to know if he can cut out whole words from it and use them to create an untraceable replica of his ransom note. The words in his note are case-sensitive and he must use whole words available in the magazine, meaning he cannot use substrings or concatenation to create the words he needs.\n",
    "\n",
    "Given the words in the magazine and the words in the ransom note, print Yes if he can replicate his ransom note exactly using whole words from the magazine; otherwise, print No.\n",
    "\n",
    "Input Format\n",
    "\n",
    "The first line contains two space-separated integers describing the respective values of (the number of words in the magazine) and (the number of words in the ransom note).\n",
    "The second line contains space-separated strings denoting the words present in the magazine.\n",
    "The third line contains space-separated strings denoting the words present in the ransom note.\n",
    "\n",
    "Constraints\n",
    "\n",
    "    .\n",
    "    Each word consists of English alphabetic letters (i.e., to and to ).\n",
    "    The words in the note and magazine are case-sensitive.\n",
    "\n",
    "Output Format\n",
    "\n",
    "Print Yes if he can use the magazine to create an untraceable replica of his ransom note; otherwise, print No.\n",
    "\n",
    "Sample Input 0\n",
    "\n",
    "6 4\n",
    "give me one grand today night\n",
    "give one grand today\n",
    "\n",
    "Sample Output 0\n",
    "\n",
    "Yes\n",
    "\n",
    "Sample Input 1\n",
    "\n",
    "6 5\n",
    "two times three is not four\n",
    "two times two is four\n",
    "\n",
    "Sample Output 1\n",
    "\n",
    "No\n",
    "\n",
    "Explanation 1\n",
    "\n",
    "\n",
    "\n",
    "https://www.hackerrank.com/challenges/ctci-ransom-note/problem"
   ]
  },
  {
   "cell_type": "code",
   "execution_count": 1,
   "metadata": {},
   "outputs": [
    {
     "name": "stdout",
     "output_type": "stream",
     "text": [
      "6 4\n",
      "give me one grand today night\n",
      "give me grand today\n",
      "Yes\n"
     ]
    }
   ],
   "source": [
    "def ransom_note(magazine, ransom):\n",
    "    word_magazine = {}\n",
    "    word_ransom = {}\n",
    "    for word in magazine:\n",
    "        word_magazine[word] = word_magazine.get(word, 0) + 1\n",
    "    for word in ransom:\n",
    "        word_ransom[word] = word_ransom.get(word, 0) + 1\n",
    "    for key in word_ransom:\n",
    "        if (word_magazine.get(key, 0) < word_ransom.get(key, 0)):\n",
    "            return(False)\n",
    "    return(True)\n",
    "    \n",
    "\n",
    "m, n = map(int, input().strip().split(' '))\n",
    "magazine = input().strip().split(' ')\n",
    "ransom = input().strip().split(' ')\n",
    "answer = ransom_note(magazine, ransom)\n",
    "if(answer):\n",
    "    print(\"Yes\")\n",
    "else:\n",
    "    print(\"No\")"
   ]
  }
 ],
 "metadata": {
  "kernelspec": {
   "display_name": "Python 3",
   "language": "python",
   "name": "python3"
  },
  "language_info": {
   "codemirror_mode": {
    "name": "ipython",
    "version": 3
   },
   "file_extension": ".py",
   "mimetype": "text/x-python",
   "name": "python",
   "nbconvert_exporter": "python",
   "pygments_lexer": "ipython3",
   "version": "3.6.1"
  }
 },
 "nbformat": 4,
 "nbformat_minor": 2
}
