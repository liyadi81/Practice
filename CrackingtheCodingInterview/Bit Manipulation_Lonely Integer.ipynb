{
 "cells": [
  {
   "cell_type": "markdown",
   "metadata": {},
   "source": [
    "Consider an array of integers, , where all but one of the integers occur in pairs. In other words, every element in occurs exactly twice except for one unique element.\n",
    "\n",
    "Given , find and print the unique element.\n",
    "\n",
    "Input Format\n",
    "\n",
    "The first line contains a single integer, , denoting the number of integers in the array.\n",
    "The second line contains space-separated integers describing the respective values in .\n",
    "\n",
    "Constraints\n",
    "\n",
    "    It is guaranteed that is an odd number.\n",
    "    , where .\n",
    "\n",
    "Output Format\n",
    "\n",
    "Print the unique number that occurs only once in on a new line.\n",
    "\n",
    "Sample Input 0\n",
    "\n",
    "1\n",
    "1\n",
    "\n",
    "Sample Output 0\n",
    "\n",
    "1\n",
    "\n",
    "Explanation 0\n",
    "The array only contains a single , so we print as our answer.\n",
    "\n",
    "Sample Input 1\n",
    "\n",
    "3\n",
    "1 1 2\n",
    "\n",
    "Sample Output 1\n",
    "\n",
    "2\n",
    "\n",
    "Explanation 1\n",
    "We have two 's and one . We print , because that's the only unique element in the array.\n",
    "\n",
    "Sample Input 2\n",
    "\n",
    "5\n",
    "0 0 1 2 1\n",
    "\n",
    "Sample Output 2\n",
    "\n",
    "2\n",
    "\n",
    "Explanation 2\n",
    "We have two 's, two 's, and one . We print , because that's the only unique element in the array.\n",
    "\n",
    "https://www.hackerrank.com/challenges/ctci-lonely-integer/problem"
   ]
  },
  {
   "cell_type": "code",
   "execution_count": 5,
   "metadata": {},
   "outputs": [
    {
     "name": "stdout",
     "output_type": "stream",
     "text": [
      "5\n",
      "0 0 1 2 1\n",
      "2\n"
     ]
    }
   ],
   "source": [
    "def lonely_integer(a):\n",
    "    temp = []\n",
    "    for i in a:\n",
    "        if i not in temp:\n",
    "            temp.append(i)\n",
    "        else:\n",
    "            temp.remove(i)\n",
    "    return(temp[0])\n",
    "    \n",
    "\n",
    "n = int(input().strip())\n",
    "a = [int(a_temp) for a_temp in input().strip().split(' ')]\n",
    "print(lonely_integer(a))"
   ]
  },
  {
   "cell_type": "code",
   "execution_count": 6,
   "metadata": {},
   "outputs": [
    {
     "name": "stdout",
     "output_type": "stream",
     "text": [
      "5\n",
      "0 0 1 2 1\n",
      "2\n"
     ]
    }
   ],
   "source": [
    "def lonely_integer(a):\n",
    "    temp = 0\n",
    "    for i in a:\n",
    "        temp ^= i\n",
    "    return(temp)\n",
    "    \n",
    "\n",
    "n = int(input().strip())\n",
    "a = [int(a_temp) for a_temp in input().strip().split(' ')]\n",
    "print(lonely_integer(a))"
   ]
  }
 ],
 "metadata": {
  "kernelspec": {
   "display_name": "Python 3",
   "language": "python",
   "name": "python3"
  },
  "language_info": {
   "codemirror_mode": {
    "name": "ipython",
    "version": 3
   },
   "file_extension": ".py",
   "mimetype": "text/x-python",
   "name": "python",
   "nbconvert_exporter": "python",
   "pygments_lexer": "ipython3",
   "version": "3.6.1"
  }
 },
 "nbformat": 4,
 "nbformat_minor": 2
}
