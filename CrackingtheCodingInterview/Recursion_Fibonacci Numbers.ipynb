{
 "cells": [
  {
   "cell_type": "markdown",
   "metadata": {},
   "source": [
    "The Fibonacci Sequence \n",
    "The Fibonacci sequence begins with  and  as its respective first and second terms. After these first two elements, each subsequent element is equal to the sum of the previous two elements.\n",
    "\n",
    "Here is the basic information you need to calculate :\n",
    "\n",
    "Task \n",
    "Given , complete the fibonacci function so it returns .\n",
    "\n",
    "Input Format\n",
    "\n",
    "Locked stub code in the editor reads a single integer denoting the value of  and passes it to the fibonacci function.\n",
    "\n",
    "Constraints\n",
    "\n",
    "Output Format\n",
    "\n",
    "Locked stub code in the editor prints the value of  returned by the fibonacci function.\n",
    "\n",
    "Sample Input\n",
    "\n",
    "3  \n",
    "Sample Output\n",
    "\n",
    "2\n",
    "Explanation\n",
    "\n",
    "Consider the Fibonacci sequence:\n",
    "\n",
    " \n",
    " \n",
    " \n",
    " \n",
    " \n",
    " \n",
    " \n",
    "...\n",
    "\n",
    "We want to know the value of . If we look at the sequence above,  evaluates to . Thus, we print  as our answer.\n",
    "\n",
    "https://www.hackerrank.com/challenges/ctci-fibonacci-numbers/problem"
   ]
  },
  {
   "cell_type": "code",
   "execution_count": 3,
   "metadata": {},
   "outputs": [
    {
     "name": "stdout",
     "output_type": "stream",
     "text": [
      "27\n",
      "196418\n"
     ]
    }
   ],
   "source": [
    "def fibonacci(n):\n",
    "    # Write your code here.\n",
    "    if n<2:\n",
    "        return(n)\n",
    "    else:\n",
    "        return(fibonacci(n-1)+fibonacci(n-2))\n",
    "    \n",
    "n = int(input())\n",
    "print(fibonacci(n))"
   ]
  },
  {
   "cell_type": "code",
   "execution_count": 4,
   "metadata": {},
   "outputs": [
    {
     "name": "stdout",
     "output_type": "stream",
     "text": [
      "27\n",
      "196418\n"
     ]
    }
   ],
   "source": [
    "def fibonacci(n):\n",
    "    a = [0,1]\n",
    "    if n<2:\n",
    "        return(a[n])\n",
    "    else:\n",
    "        for i in range(1,n):\n",
    "            a[0], a[1] = a[1], sum(a)\n",
    "        return(a[1])\n",
    "    \n",
    "n = int(input())\n",
    "print(fibonacci(n))"
   ]
  },
  {
   "cell_type": "code",
   "execution_count": null,
   "metadata": {
    "collapsed": true
   },
   "outputs": [],
   "source": []
  }
 ],
 "metadata": {
  "kernelspec": {
   "display_name": "Python 3",
   "language": "python",
   "name": "python3"
  },
  "language_info": {
   "codemirror_mode": {
    "name": "ipython",
    "version": 3
   },
   "file_extension": ".py",
   "mimetype": "text/x-python",
   "name": "python",
   "nbconvert_exporter": "python",
   "pygments_lexer": "ipython3",
   "version": "3.6.1"
  }
 },
 "nbformat": 4,
 "nbformat_minor": 2
}
