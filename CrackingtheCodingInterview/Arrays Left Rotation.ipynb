{
 "cells": [
  {
   "cell_type": "markdown",
   "metadata": {},
   "source": [
    "A left rotation operation on an array of size shifts each of the array's elements unit to the left. For example, if left rotations are performed on array , then the array would become .\n",
    "\n",
    "Given an array of integers and a number, , perform left rotations on the array. Then print the updated array as a single line of space-separated integers.\n",
    "\n",
    "Input Format\n",
    "\n",
    "The first line contains two space-separated integers denoting the respective values of (the number of integers) and (the number of left rotations you must perform).\n",
    "The second line contains space-separated integers describing the respective elements of the array's initial state.\n",
    "\n",
    "Constraints\n",
    "\n",
    "Output Format\n",
    "\n",
    "Print a single line of space-separated integers denoting the final state of the array after performing left rotations.\n",
    "\n",
    "Sample Input\n",
    "\n",
    "5 4\n",
    "1 2 3 4 5\n",
    "\n",
    "Sample Output\n",
    "\n",
    "5 1 2 3 4\n",
    "\n",
    "Explanation\n",
    "\n",
    "When we perform left rotations, the array undergoes the following sequence of changes:\n",
    "\n",
    "Thus, we print the array's final state as a single line of space-separated values, which is 5 1 2 3 4.\n",
    "\n",
    "https://www.hackerrank.com/challenges/ctci-array-left-rotation/problem"
   ]
  },
  {
   "cell_type": "code",
   "execution_count": 1,
   "metadata": {},
   "outputs": [
    {
     "name": "stdout",
     "output_type": "stream",
     "text": [
      "5 4\n",
      "1 2 3 4 5\n",
      "5 1 2 3 4\n"
     ]
    }
   ],
   "source": [
    "def array_left_rotation(a, n, k):\n",
    "\n",
    "    b = a[k:]\n",
    "    b.extend(a[:k])\n",
    "    return(b)\n",
    "    \n",
    "\n",
    "n, k = map(int, input().strip().split(' '))\n",
    "a = list(map(int, input().strip().split(' ')))\n",
    "answer = array_left_rotation(a, n, k);\n",
    "print(*answer, sep=' ')"
   ]
  }
 ],
 "metadata": {
  "kernelspec": {
   "display_name": "Python 3",
   "language": "python",
   "name": "python3"
  },
  "language_info": {
   "codemirror_mode": {
    "name": "ipython",
    "version": 3
   },
   "file_extension": ".py",
   "mimetype": "text/x-python",
   "name": "python",
   "nbconvert_exporter": "python",
   "pygments_lexer": "ipython3",
   "version": "3.6.1"
  }
 },
 "nbformat": 4,
 "nbformat_minor": 2
}
