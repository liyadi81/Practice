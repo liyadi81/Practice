{
 "cells": [
  {
   "cell_type": "markdown",
   "metadata": {},
   "source": [
    "Comparators are used to compare two objects. In this challenge, you'll create a comparator and use it to sort an array. The Player class is provided in the editor below; it has two fields:\n",
    "\n",
    "    A string, .\n",
    "    An integer, .\n",
    "\n",
    "Given an array of Player objects, write a comparator that sorts them in order of decreasing score; if or more players have the same score, sort those players alphabetically by name. To do this, you must create a Checker class that implements the Comparator interface, then write an int compare(Player a, Player b) method implementing the Comparator.compare(T o1, T o2) method.\n",
    "\n",
    "Input Format\n",
    "\n",
    "Locked stub code in the Solution class handles the following input from stdin:\n",
    "The first line contains an integer, , denoting the number of players.\n",
    "Each of the subsequent lines contains a player's respective and .\n",
    "\n",
    "Constraints\n",
    "\n",
    "    Two or more players can have the same name.\n",
    "    Player names consist of lowercase English alphabetic letters.\n",
    "\n",
    "Output Format\n",
    "\n",
    "You are not responsible for printing any output to stdout. Locked stub code in Solution will create a Checker object, use it to sort the Player array, and print each sorted element.\n",
    "\n",
    "Sample Input\n",
    "\n",
    "5\n",
    "amy 100\n",
    "david 100\n",
    "heraldo 50\n",
    "aakansha 75\n",
    "aleksa 150\n",
    "\n",
    "Sample Output\n",
    "\n",
    "aleksa 150\n",
    "amy 100\n",
    "david 100\n",
    "aakansha 75\n",
    "heraldo 50\n",
    "\n",
    "Explanation\n",
    "\n",
    "As you can see, the players are first sorted by decreasing score and then sorted alphabetically by name.\n",
    "\n",
    "https://www.hackerrank.com/challenges/ctci-comparator-sorting/problem"
   ]
  },
  {
   "cell_type": "code",
   "execution_count": 1,
   "metadata": {
    "collapsed": true
   },
   "outputs": [],
   "source": [
    "from functools import cmp_to_key\n",
    "class Player:\n",
    "    def __init__(self, name, score):\n",
    "        self.name = name\n",
    "        self.score = score\n",
    "        \n",
    "    def __repr__(self):\n",
    "        pass\n",
    "        \n",
    "    def comparator(a, b):\n",
    "        val = b.score - a.score\n",
    "        if val == 0:\n",
    "            return -1 if a.name < b.name else 1\n",
    "        return val"
   ]
  },
  {
   "cell_type": "code",
   "execution_count": 2,
   "metadata": {},
   "outputs": [
    {
     "name": "stdout",
     "output_type": "stream",
     "text": [
      "5\n",
      "amy 100\n",
      "david 100\n",
      "heraldo 50\n",
      "aakansha 75\n",
      "aleksa 150\n",
      "aleksa 150\n",
      "amy 100\n",
      "david 100\n",
      "aakansha 75\n",
      "heraldo 50\n"
     ]
    }
   ],
   "source": [
    "n = int(input())\n",
    "data = []\n",
    "for i in range(n):\n",
    "    name, score = input().split()\n",
    "    score = int(score)\n",
    "    player = Player(name, score)\n",
    "    data.append(player)\n",
    "    \n",
    "data = sorted(data, key=cmp_to_key(Player.comparator))\n",
    "for i in data:\n",
    "    print(i.name, i.score)"
   ]
  }
 ],
 "metadata": {
  "kernelspec": {
   "display_name": "Python 3",
   "language": "python",
   "name": "python3"
  },
  "language_info": {
   "codemirror_mode": {
    "name": "ipython",
    "version": 3
   },
   "file_extension": ".py",
   "mimetype": "text/x-python",
   "name": "python",
   "nbconvert_exporter": "python",
   "pygments_lexer": "ipython3",
   "version": "3.6.1"
  }
 },
 "nbformat": 4,
 "nbformat_minor": 2
}
