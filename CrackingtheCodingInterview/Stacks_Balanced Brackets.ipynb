{
 "cells": [
  {
   "cell_type": "markdown",
   "metadata": {},
   "source": [
    "A bracket is considered to be any one of the following characters: (, ), {, }, [, or ].\n",
    "\n",
    "Two brackets are considered to be a matched pair if the an opening bracket (i.e., (, [, or {) occurs to the left of a closing bracket (i.e., ), ], or }) of the exact same type. There are three types of matched pairs of brackets: [], {}, and ().\n",
    "\n",
    "A matching pair of brackets is not balanced if the set of brackets it encloses are not matched. For example, {[(])} is not balanced because the contents in between { and } are not balanced. The pair of square brackets encloses a single, unbalanced opening bracket, (, and the pair of parentheses encloses a single, unbalanced closing square bracket, ].\n",
    "\n",
    "By this logic, we say a sequence of brackets is considered to be balanced if the following conditions are met:\n",
    "\n",
    "    It contains no unmatched brackets.\n",
    "    The subset of brackets enclosed within the confines of a matched pair of brackets is also a matched pair of brackets.\n",
    "\n",
    "Given strings of brackets, determine whether each sequence of brackets is balanced. If a string is balanced, print YES on a new line; otherwise, print NO on a new line.\n",
    "\n",
    "Input Format\n",
    "\n",
    "The first line contains a single integer, , denoting the number of strings.\n",
    "Each line of the subsequent lines consists of a single string, , denoting a sequence of brackets.\n",
    "\n",
    "Constraints\n",
    "\n",
    "    , where is the length of the sequence.\n",
    "    Each character in the sequence will be a bracket (i.e., {, }, (, ), [, and ]).\n",
    "\n",
    "Output Format\n",
    "\n",
    "For each string, print whether or not the string of brackets is balanced on a new line. If the brackets are balanced, print YES; otherwise, print NO.\n",
    "\n",
    "Sample Input\n",
    "\n",
    "3\n",
    "{[()]}\n",
    "{[(])}\n",
    "{{[[(())]]}}\n",
    "\n",
    "Sample Output\n",
    "\n",
    "YES\n",
    "NO\n",
    "YES\n",
    "\n",
    "Explanation\n",
    "\n",
    "    The string {[()]} meets both criteria for being a balanced string, so we print YES on a new line.\n",
    "    The string {[(])} is not balanced, because the brackets enclosed by the matched pairs [(] and (]) are not balanced. Thus, we print NO on a new line.\n",
    "    The string {{[[(())]]}} meets both criteria for being a balanced string, so we print YES on a new line.\n",
    "\n",
    "https://www.hackerrank.com/challenges/ctci-balanced-brackets/problem"
   ]
  },
  {
   "cell_type": "code",
   "execution_count": 1,
   "metadata": {},
   "outputs": [
    {
     "name": "stdout",
     "output_type": "stream",
     "text": [
      "3\n",
      "{[()]}\n",
      "YES\n",
      "{[(])}\n",
      "NO\n",
      "{{[[(())]]}}\n",
      "YES\n"
     ]
    }
   ],
   "source": [
    "def is_matched(expression):\n",
    "    temp = []\n",
    "    for bracket in expression:\n",
    "        if bracket in ['(', '{', '[']:\n",
    "            temp.append(bracket)\n",
    "        elif (len(temp)>0):\n",
    "            if (bracket==')' and temp.pop()=='('):\n",
    "                continue\n",
    "            elif (bracket=='}' and temp.pop()=='{'):\n",
    "                continue\n",
    "            elif (bracket==']' and temp.pop()=='['):\n",
    "                continue\n",
    "            else:\n",
    "                return(False)\n",
    "        else:\n",
    "            return(False)\n",
    "    return(len(temp)==0)\n",
    "\n",
    "t = int(input().strip())\n",
    "for a0 in range(t):\n",
    "    expression = input().strip()\n",
    "    if is_matched(expression) == True:\n",
    "        print(\"YES\")\n",
    "    else:\n",
    "        print(\"NO\")\n"
   ]
  },
  {
   "cell_type": "code",
   "execution_count": 2,
   "metadata": {},
   "outputs": [
    {
     "name": "stdout",
     "output_type": "stream",
     "text": [
      "3\n",
      "{[()]}\n",
      "YES\n",
      "{[(])}\n",
      "NO\n",
      "{{[[(())]]}}\n",
      "YES\n"
     ]
    }
   ],
   "source": [
    "def is_matched(expression):\n",
    "    pairs = {'{' : '}', '[' : ']', '(' : ')'}\n",
    "    sk = []\n",
    "    for c in expression:\n",
    "        if c in pairs:\n",
    "            sk.append(pairs[c])\n",
    "        elif not sk or c != sk.pop():\n",
    "            return False\n",
    "    return not sk\n",
    "\n",
    "t = int(input().strip())\n",
    "for a0 in range(t):\n",
    "    expression = input().strip()\n",
    "    if is_matched(expression) == True:\n",
    "        print(\"YES\")\n",
    "    else:\n",
    "        print(\"NO\")\n"
   ]
  }
 ],
 "metadata": {
  "kernelspec": {
   "display_name": "Python 3",
   "language": "python",
   "name": "python3"
  },
  "language_info": {
   "codemirror_mode": {
    "name": "ipython",
    "version": 3
   },
   "file_extension": ".py",
   "mimetype": "text/x-python",
   "name": "python",
   "nbconvert_exporter": "python",
   "pygments_lexer": "ipython3",
   "version": "3.6.1"
  }
 },
 "nbformat": 4,
 "nbformat_minor": 2
}
