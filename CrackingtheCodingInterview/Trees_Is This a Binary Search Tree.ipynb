{
 "cells": [
  {
   "cell_type": "markdown",
   "metadata": {},
   "source": [
    "For the purposes of this challenge, we define a binary search tree to be a binary tree with the following ordering properties:\n",
    "\n",
    "The  value of every node in a node's left subtree is less than the data value of that node.\n",
    "The  value of every node in a node's right subtree is greater than the data value of that node.\n",
    "Given the root node of a binary tree, can you determine if it's also a binary search tree?\n",
    "\n",
    "Complete the function in your editor below, which has  parameter: a pointer to the root of a binary tree. It must return a boolean denoting whether or not the binary tree is a binary search tree. You may have to write one or more helper functions to complete this challenge.\n",
    "\n",
    "Note: We do not consider a binary tree to be a binary search tree if it contains duplicate values.\n",
    "\n",
    "Input Format\n",
    "\n",
    "You are not responsible for reading any input from stdin. Hidden code stubs will assemble a binary tree and pass its root node to your function as an argument.\n",
    "\n",
    "Constraints\n",
    "\n",
    "Output Format\n",
    "\n",
    "You are not responsible for printing any output to stdout. Your function must return true if the tree is a binary search tree; otherwise, it must return false. Hidden code stubs will print this result as a Yes or No answer on a new line.\n",
    "\n",
    "Sample Input\n",
    "\n",
    "tree\n",
    "\n",
    "Sample Output\n",
    "\n",
    "Yes\n",
    "Explanation\n",
    "\n",
    "The tree in the diagram satisfies the ordering property for a Binary Search Tree, so we print Yes.\n",
    "\n",
    "https://www.hackerrank.com/challenges/ctci-is-binary-search-tree/problem"
   ]
  },
  {
   "cell_type": "code",
   "execution_count": 9,
   "metadata": {
    "collapsed": true
   },
   "outputs": [],
   "source": [
    "\"\"\" Node is defined as\n",
    "class node:\n",
    "    def __init__(self, data):\n",
    "        self.data = data\n",
    "        self.left = None\n",
    "        self.right = None\n",
    "\"\"\"\n",
    "\n",
    "def checkBST(root):\n",
    "    return check(root, float('-inf'), float('inf'))\n",
    "\n",
    "def check(root, min, max):\n",
    "    if root==None:\n",
    "        return True\n",
    "    else:\n",
    "        if root.data>min and root.data<max:\n",
    "            return(check(root.left, min, root.data) and check(root.right, root.data, max))\n",
    "        else:\n",
    "            return False"
   ]
  }
 ],
 "metadata": {
  "kernelspec": {
   "display_name": "Python 3",
   "language": "python",
   "name": "python3"
  },
  "language_info": {
   "codemirror_mode": {
    "name": "ipython",
    "version": 3
   },
   "file_extension": ".py",
   "mimetype": "text/x-python",
   "name": "python",
   "nbconvert_exporter": "python",
   "pygments_lexer": "ipython3",
   "version": "3.6.1"
  }
 },
 "nbformat": 4,
 "nbformat_minor": 2
}
