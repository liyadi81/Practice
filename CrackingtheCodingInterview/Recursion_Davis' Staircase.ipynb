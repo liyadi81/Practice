{
 "cells": [
  {
   "cell_type": "markdown",
   "metadata": {},
   "source": [
    "Davis has  staircases in his house and he likes to climb each staircase , , or  steps at a time. Being a very precocious child, he wonders how many ways there are to reach the top of the staircase.\n",
    "\n",
    "Given the respective heights for each of the  staircases in his house, find and print the number of ways he can climb each staircase on a new line.\n",
    "\n",
    "Input Format\n",
    "\n",
    "The first line contains a single integer, , denoting the number of staircases in his house. \n",
    "Each line  of the  subsequent lines contains a single integer, , denoting the height of staircase .\n",
    "\n",
    "Constraints\n",
    "\n",
    "Subtasks\n",
    "\n",
    " for  of the maximum score.\n",
    "Output Format\n",
    "\n",
    "For each staircase, print the number of ways Davis can climb it in a new line.\n",
    "\n",
    "Sample Input\n",
    "\n",
    "3\n",
    "1\n",
    "3\n",
    "7\n",
    "Sample Output\n",
    "\n",
    "1\n",
    "4\n",
    "44\n",
    "Explanation\n",
    "\n",
    "Let's calculate the number of ways of climbing the first two of the Davis'  staircases:\n",
    "\n",
    "The first staircase only has  step, so there is only one way for him to climb it (i.e., by jumping  step). Thus, we print  on a new line.\n",
    "The second staircase has  steps and he can climb it in any of the four following ways: \n",
    "Thus, we print  on a new line.\n",
    "\n",
    "https://www.hackerrank.com/challenges/ctci-recursive-staircase/problem"
   ]
  },
  {
   "cell_type": "code",
   "execution_count": 1,
   "metadata": {},
   "outputs": [
    {
     "name": "stdout",
     "output_type": "stream",
     "text": [
      "3\n",
      "1\n",
      "1\n",
      "3\n",
      "4\n",
      "7\n",
      "44\n"
     ]
    }
   ],
   "source": [
    "def WaystoClimb(n):\n",
    "    a = [1, 2, 4]\n",
    "    if n<=3:\n",
    "        return(a[n-1])\n",
    "    else:\n",
    "        for i in range(3,n):\n",
    "            a[0],a[1],a[2] = a[1],a[2],sum(a)\n",
    "        return(a[2])\n",
    "        \n",
    "\n",
    "\n",
    "s = int(input().strip())\n",
    "for a0 in range(s):\n",
    "    n = int(input().strip())\n",
    "    print(WaystoClimb(n))\n"
   ]
  },
  {
   "cell_type": "code",
   "execution_count": 2,
   "metadata": {},
   "outputs": [
    {
     "name": "stdout",
     "output_type": "stream",
     "text": [
      "3\n",
      "1\n",
      "1\n",
      "3\n",
      "4\n",
      "7\n",
      "44\n"
     ]
    }
   ],
   "source": [
    "def WaystoClimb(n):\n",
    "    if n<=3:\n",
    "        return(2**(n-1))\n",
    "    else:\n",
    "        return(WaystoClimb(n-1)+WaystoClimb(n-2)+WaystoClimb(n-3))\n",
    "\n",
    "\n",
    "s = int(input().strip())\n",
    "for a0 in range(s):\n",
    "    n = int(input().strip())\n",
    "    print(WaystoClimb(n))\n"
   ]
  }
 ],
 "metadata": {
  "kernelspec": {
   "display_name": "Python 3",
   "language": "python",
   "name": "python3"
  },
  "language_info": {
   "codemirror_mode": {
    "name": "ipython",
    "version": 3
   },
   "file_extension": ".py",
   "mimetype": "text/x-python",
   "name": "python",
   "nbconvert_exporter": "python",
   "pygments_lexer": "ipython3",
   "version": "3.6.1"
  }
 },
 "nbformat": 4,
 "nbformat_minor": 2
}
