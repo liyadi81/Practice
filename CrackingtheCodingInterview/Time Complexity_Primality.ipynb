{
 "cells": [
  {
   "cell_type": "markdown",
   "metadata": {},
   "source": [
    "A prime is a natural number greater than  that has no positive divisors other than  and itself. Given  integers, determine the primality of each integer and print whether it is Prime or Not prime on a new line.\n",
    "\n",
    "Note: If possible, try to come up with an  primality algorithm, or see what sort of optimizations you can come up with for an  algorithm. Be sure to check out the Editorial after submitting your code!\n",
    "\n",
    "Input Format\n",
    "\n",
    "The first line contains an integer, , denoting the number of integers to check for primality. \n",
    "Each of the  subsequent lines contains an integer, , you must test for primality.\n",
    "\n",
    "Constraints\n",
    "\n",
    "Output Format\n",
    "\n",
    "For each integer, print whether  is Prime or Not prime on a new line.\n",
    "\n",
    "Sample Input\n",
    "\n",
    "3\n",
    "12\n",
    "5\n",
    "7\n",
    "Sample Output\n",
    "\n",
    "Not prime\n",
    "Prime\n",
    "Prime\n",
    "Explanation\n",
    "\n",
    "We check the following  integers for primality:\n",
    "\n",
    " is divisible by numbers other than  and itself (i.e.: , , ), so we print Not prime on a new line.\n",
    " is only divisible  and itself, so we print Prime on a new line.\n",
    " is only divisible  and itself, so we print Prime on a new line.\n",
    " \n",
    "https://www.hackerrank.com/challenges/ctci-big-o/problem"
   ]
  },
  {
   "cell_type": "code",
   "execution_count": 15,
   "metadata": {},
   "outputs": [
    {
     "name": "stdout",
     "output_type": "stream",
     "text": [
      "3\n",
      "12\n",
      "Not prime\n",
      "5\n",
      "Prime\n",
      "7\n",
      "Prime\n"
     ]
    }
   ],
   "source": [
    "def checkPrime(num):\n",
    "    if num==1:\n",
    "        return('Not Prime')\n",
    "    for i in range(2, int(num**0.5)+1):\n",
    "        if num%i==0:\n",
    "            return('Not prime')\n",
    "    return('Prime')\n",
    "\n",
    "p = int(input().strip())\n",
    "for a0 in range(p):\n",
    "    n = int(input().strip())\n",
    "    print(checkPrime(n))\n",
    "    \n",
    "\n"
   ]
  }
 ],
 "metadata": {
  "kernelspec": {
   "display_name": "Python 3",
   "language": "python",
   "name": "python3"
  },
  "language_info": {
   "codemirror_mode": {
    "name": "ipython",
    "version": 3
   },
   "file_extension": ".py",
   "mimetype": "text/x-python",
   "name": "python",
   "nbconvert_exporter": "python",
   "pygments_lexer": "ipython3",
   "version": "3.6.1"
  }
 },
 "nbformat": 4,
 "nbformat_minor": 2
}
