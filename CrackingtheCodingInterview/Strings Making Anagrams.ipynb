{
 "cells": [
  {
   "cell_type": "markdown",
   "metadata": {},
   "source": [
    "Alice is taking a cryptography class and finding anagrams to be very useful. We consider two strings to be anagrams of each other if the first string's letters can be rearranged to form the second string. In other words, both strings must contain the same exact letters in the same exact frequency For example, bacdc and dcbac are anagrams, but bacdc and dcbad are not.\n",
    "\n",
    "Alice decides on an encryption scheme involving two large strings where encryption is dependent on the minimum number of character deletions required to make the two strings anagrams. Can you help her find this number?\n",
    "\n",
    "Given two strings, and , that may or may not be of the same length, determine the minimum number of character deletions required to make and anagrams. Any characters can be deleted from either of the strings.\n",
    "\n",
    "This challenge is also available in the following translations:\n",
    "\n",
    "    Chinese\n",
    "    Russian\n",
    "\n",
    "Input Format\n",
    "\n",
    "The first line contains a single string, .\n",
    "The second line contains a single string, .\n",
    "\n",
    "Constraints\n",
    "\n",
    "    It is guaranteed that and consist of lowercase English alphabetic letters (i.e., through ).\n",
    "\n",
    "Output Format\n",
    "\n",
    "Print a single integer denoting the number of characters you must delete to make the two strings anagrams of each other.\n",
    "\n",
    "Sample Input\n",
    "\n",
    "cde\n",
    "abc\n",
    "\n",
    "Sample Output\n",
    "\n",
    "4\n",
    "\n",
    "Explanation\n",
    "\n",
    "We delete the following characters from our two strings to turn them into anagrams of each other:\n",
    "\n",
    "    Remove d and e from cde to get c.\n",
    "    Remove a and b from abc to get c.\n",
    "\n",
    "We must delete characters to make both strings anagrams, so we print on a new line."
   ]
  },
  {
   "cell_type": "code",
   "execution_count": 1,
   "metadata": {},
   "outputs": [
    {
     "name": "stdout",
     "output_type": "stream",
     "text": [
      "cde\n",
      "abc\n",
      "4\n"
     ]
    }
   ],
   "source": [
    "import string\n",
    "def number_needed(a, b):\n",
    "    lett_freq_a = {}\n",
    "    lett_freq_b = {}\n",
    "    res = 0\n",
    "    for i in list(a):\n",
    "        lett_freq_a[i] = lett_freq_a.get(i, 0) + 1\n",
    "    for j in list(b):\n",
    "        lett_freq_b[j] = lett_freq_b.get(j, 0) + 1\n",
    "    for k in list(string.ascii_lowercase):\n",
    "        res = res + abs(lett_freq_a.get(k, 0) - lett_freq_b.get(k, 0))\n",
    "    return(res)\n",
    "    \n",
    "\n",
    "a = input().strip()\n",
    "b = input().strip()\n",
    "\n",
    "print(number_needed(a, b))"
   ]
  },
  {
   "cell_type": "code",
   "execution_count": 2,
   "metadata": {},
   "outputs": [
    {
     "name": "stdout",
     "output_type": "stream",
     "text": [
      "cde\n",
      "abc\n",
      "4\n"
     ]
    }
   ],
   "source": [
    "def number_needed(a, b):\n",
    "    count = 0\n",
    "    for i in range(97, 123):\n",
    "        ia = sum(letter == chr(i) for letter in a)\n",
    "        ib = sum(letter == chr(i) for letter in b)\n",
    "        count += abs(ia-ib)\n",
    "    return count\n",
    "\n",
    "a = input().strip()\n",
    "b = input().strip()\n",
    "\n",
    "print(number_needed(a, b))"
   ]
  },
  {
   "cell_type": "code",
   "execution_count": 3,
   "metadata": {},
   "outputs": [
    {
     "data": {
      "text/plain": [
       "'a'"
      ]
     },
     "execution_count": 3,
     "metadata": {},
     "output_type": "execute_result"
    }
   ],
   "source": []
  }
 ],
 "metadata": {
  "kernelspec": {
   "display_name": "Python 3",
   "language": "python",
   "name": "python3"
  },
  "language_info": {
   "codemirror_mode": {
    "name": "ipython",
    "version": 3
   },
   "file_extension": ".py",
   "mimetype": "text/x-python",
   "name": "python",
   "nbconvert_exporter": "python",
   "pygments_lexer": "ipython3",
   "version": "3.6.1"
  }
 },
 "nbformat": 4,
 "nbformat_minor": 2
}
